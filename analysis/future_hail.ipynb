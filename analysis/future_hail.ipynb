{
 "cells": [
  {
   "cell_type": "markdown",
   "id": "f7b6877c-161b-49bc-8129-aee584237ddf",
   "metadata": {
    "tags": []
   },
   "source": [
    "# Future projections of global hail hazard"
   ]
  },
  {
   "cell_type": "code",
   "execution_count": 1,
   "id": "4e408329-5385-455d-84ec-5557b59cc5ef",
   "metadata": {
    "tags": []
   },
   "outputs": [
    {
     "name": "stdout",
     "output_type": "stream",
     "text": [
      "/home/561/tr2908/git/future_hail_global\n"
     ]
    }
   ],
   "source": [
    "%cd git/future_hail_global/"
   ]
  },
  {
   "cell_type": "code",
   "execution_count": 71,
   "id": "40060e31-7116-4308-a47a-95e86701ec8d",
   "metadata": {
    "tags": []
   },
   "outputs": [],
   "source": [
    "import sys\n",
    "sys.path.append('../xarray_parcel/')\n",
    "sys.path.append('../aus400_hail/')\n",
    "                \n",
    "import dask\n",
    "import xarray\n",
    "import warnings\n",
    "import numpy as np\n",
    "import pandas as pd\n",
    "import seaborn as sns\n",
    "from clef.code import *\n",
    "import cartopy.crs as ccrs\n",
    "from importlib import reload\n",
    "import modules.fut_hail as fh\n",
    "import matplotlib.pyplot as plt\n",
    "from dask.distributed import Client, Scheduler, LocalCluster"
   ]
  },
  {
   "cell_type": "markdown",
   "id": "4486d0cb-c81b-4d4c-b235-57f2783ca167",
   "metadata": {},
   "source": [
    "## Setup"
   ]
  },
  {
   "cell_type": "code",
   "execution_count": 3,
   "id": "29166fc0-79ad-4e31-9232-6991abfd9a0d",
   "metadata": {
    "tags": []
   },
   "outputs": [
    {
     "name": "stdout",
     "output_type": "stream",
     "text": [
      "<Client: 'tcp://127.0.0.1:35571' processes=7 threads=28, memory=126.00 GiB>\n"
     ]
    }
   ],
   "source": [
    "_ = dask.config.set(**{'array.slicing.split_large_chunks': False})\n",
    "client = Client()\n",
    "print(client)"
   ]
  },
  {
   "cell_type": "markdown",
   "id": "3c84938e-cef0-4c32-b5ed-3d864c1bb3ae",
   "metadata": {},
   "source": [
    "## Settings"
   ]
  },
  {
   "cell_type": "code",
   "execution_count": 4,
   "id": "beedd073-6752-4197-8555-21dac6984ccf",
   "metadata": {
    "tags": []
   },
   "outputs": [],
   "source": [
    "plt.show()                                        # Start the plotting engine.\n",
    "plt.rcParams['font.size'] = 13                    # Font size for plots.\n",
    "plt.rcParams['axes.formatter.useoffset'] = False  # Don't use offsets in plots."
   ]
  },
  {
   "cell_type": "markdown",
   "id": "d04af2d5-4299-4f20-9794-4e22a2a54f14",
   "metadata": {
    "tags": []
   },
   "source": [
    "## Model selection\n",
    "\n",
    "Find models matching criteria. The following criteria are used to select models:\n",
    "\n",
    "* Must contain variables:\n",
    "     - `tas`, temperature at surface\n",
    "     - `ta`, temperature by level\n",
    "     - `uas`, u wind at surface\n",
    "     - `ua`, u wind by level\n",
    "     - `vas`, v wind at surface\n",
    "     - `va`, v wind by level\n",
    "     - `huss`, specific humidity at surface\n",
    "     - `hus`, specific humidity by level\n",
    "     - `ps`, surface pressure\n",
    "* Optional variables:\n",
    "     - `orog`, surface elevation. If missing, orography from CNRM-CM6-1/historical/r1i1p1f2 is interpolated to the same grid and used.\n",
    "* Must be available with a table ID of `3hr` or `6hrLev` (six hour minimum temporal resolution).\n",
    "* Must include both historical and SSP5-8.5 experiments."
   ]
  },
  {
   "cell_type": "code",
   "execution_count": 6,
   "id": "cf0f1ac7-d75e-43d0-9b08-43f8482d8434",
   "metadata": {
    "tags": []
   },
   "outputs": [],
   "source": [
    "models = fh.select_models()"
   ]
  },
  {
   "cell_type": "markdown",
   "id": "d46f9e64-e81e-4b35-a76d-4e07f68b7763",
   "metadata": {},
   "source": [
    "## Model warming points"
   ]
  },
  {
   "cell_type": "code",
   "execution_count": 11,
   "id": "f998a29a-2453-42c0-ba59-063b2736436f",
   "metadata": {
    "tags": []
   },
   "outputs": [
    {
     "name": "stdout",
     "output_type": "stream",
     "text": [
      "BCC-CSM2-MR historical requires 1980-1999, but data for va covers only 2012-2014. Excluding BCC-CSM2-MR.\n"
     ]
    },
    {
     "name": "stderr",
     "output_type": "stream",
     "text": [
      "2023-09-28 10:20:19,937 - distributed.utils_perf - WARNING - full garbage collections took 17% CPU time recently (threshold: 10%)\n",
      "2023-09-28 10:20:21,342 - distributed.utils_perf - WARNING - full garbage collections took 17% CPU time recently (threshold: 10%)\n",
      "2023-09-28 10:20:22,583 - distributed.utils_perf - WARNING - full garbage collections took 18% CPU time recently (threshold: 10%)\n",
      "2023-09-28 10:20:24,258 - distributed.utils_perf - WARNING - full garbage collections took 18% CPU time recently (threshold: 10%)\n",
      "2023-09-28 10:20:26,018 - distributed.utils_perf - WARNING - full garbage collections took 17% CPU time recently (threshold: 10%)\n",
      "2023-09-28 10:20:27,886 - distributed.utils_perf - WARNING - full garbage collections took 17% CPU time recently (threshold: 10%)\n",
      "2023-09-28 10:20:29,101 - distributed.utils_perf - WARNING - full garbage collections took 17% CPU time recently (threshold: 10%)\n",
      "2023-09-28 10:20:30,586 - distributed.utils_perf - WARNING - full garbage collections took 17% CPU time recently (threshold: 10%)\n",
      "2023-09-28 10:20:32,235 - distributed.utils_perf - WARNING - full garbage collections took 17% CPU time recently (threshold: 10%)\n",
      "2023-09-28 10:20:33,502 - distributed.utils_perf - WARNING - full garbage collections took 17% CPU time recently (threshold: 10%)\n",
      "2023-09-28 10:20:35,192 - distributed.utils_perf - WARNING - full garbage collections took 17% CPU time recently (threshold: 10%)\n",
      "2023-09-28 10:20:36,416 - distributed.utils_perf - WARNING - full garbage collections took 17% CPU time recently (threshold: 10%)\n",
      "2023-09-28 10:20:38,017 - distributed.utils_perf - WARNING - full garbage collections took 17% CPU time recently (threshold: 10%)\n",
      "2023-09-28 10:20:39,756 - distributed.utils_perf - WARNING - full garbage collections took 17% CPU time recently (threshold: 10%)\n"
     ]
    },
    {
     "data": {
      "text/html": [
       "<div>\n",
       "<style scoped>\n",
       "    .dataframe tbody tr th:only-of-type {\n",
       "        vertical-align: middle;\n",
       "    }\n",
       "\n",
       "    .dataframe tbody tr th {\n",
       "        vertical-align: top;\n",
       "    }\n",
       "\n",
       "    .dataframe thead th {\n",
       "        text-align: right;\n",
       "    }\n",
       "</style>\n",
       "<table border=\"1\" class=\"dataframe\">\n",
       "  <thead>\n",
       "    <tr style=\"text-align: right;\">\n",
       "      <th></th>\n",
       "      <th>model</th>\n",
       "      <th>ensemble</th>\n",
       "      <th>exp</th>\n",
       "      <th>institution_id</th>\n",
       "      <th>desc</th>\n",
       "      <th>start_year</th>\n",
       "      <th>end_year</th>\n",
       "    </tr>\n",
       "  </thead>\n",
       "  <tbody>\n",
       "    <tr>\n",
       "      <th>0</th>\n",
       "      <td>CMCC-CM2-SR5</td>\n",
       "      <td>r1i1p1f1</td>\n",
       "      <td>historical</td>\n",
       "      <td>CMCC</td>\n",
       "      <td>CMIP6.CMIP.CMCC.CMCC-CM2-SR5.historical.r1i1p1f1</td>\n",
       "      <td>1980</td>\n",
       "      <td>1999</td>\n",
       "    </tr>\n",
       "    <tr>\n",
       "      <th>1</th>\n",
       "      <td>CMCC-ESM2</td>\n",
       "      <td>r1i1p1f1</td>\n",
       "      <td>historical</td>\n",
       "      <td>CMCC</td>\n",
       "      <td>CMIP6.CMIP.CMCC.CMCC-ESM2.historical.r1i1p1f1</td>\n",
       "      <td>1980</td>\n",
       "      <td>1999</td>\n",
       "    </tr>\n",
       "    <tr>\n",
       "      <th>2</th>\n",
       "      <td>CNRM-CM6-1</td>\n",
       "      <td>r1i1p1f2</td>\n",
       "      <td>historical</td>\n",
       "      <td>CNRM-CERFACS</td>\n",
       "      <td>CMIP6.CMIP.CNRM-CERFACS.CNRM-CM6-1.historical....</td>\n",
       "      <td>1980</td>\n",
       "      <td>1999</td>\n",
       "    </tr>\n",
       "    <tr>\n",
       "      <th>3</th>\n",
       "      <td>EC-Earth3</td>\n",
       "      <td>r1i1p1f1</td>\n",
       "      <td>historical</td>\n",
       "      <td>EC-Earth-Consortium</td>\n",
       "      <td>CMIP6.CMIP.EC-Earth-Consortium.EC-Earth3.histo...</td>\n",
       "      <td>1980</td>\n",
       "      <td>1999</td>\n",
       "    </tr>\n",
       "    <tr>\n",
       "      <th>4</th>\n",
       "      <td>GISS-E2-1-G</td>\n",
       "      <td>r1i1p1f2</td>\n",
       "      <td>historical</td>\n",
       "      <td>NASA-GISS</td>\n",
       "      <td>CMIP6.CMIP.NASA-GISS.GISS-E2-1-G.historical.r1...</td>\n",
       "      <td>1980</td>\n",
       "      <td>1999</td>\n",
       "    </tr>\n",
       "    <tr>\n",
       "      <th>5</th>\n",
       "      <td>MIROC6</td>\n",
       "      <td>r1i1p1f1</td>\n",
       "      <td>historical</td>\n",
       "      <td>MIROC</td>\n",
       "      <td>CMIP6.CMIP.MIROC.MIROC6.historical.r1i1p1f1</td>\n",
       "      <td>1980</td>\n",
       "      <td>1999</td>\n",
       "    </tr>\n",
       "    <tr>\n",
       "      <th>6</th>\n",
       "      <td>MPI-ESM1-2-HR</td>\n",
       "      <td>r1i1p1f1</td>\n",
       "      <td>historical</td>\n",
       "      <td>MPI-M</td>\n",
       "      <td>CMIP6.CMIP.MPI-M.MPI-ESM1-2-HR.historical.r1i1...</td>\n",
       "      <td>1980</td>\n",
       "      <td>1999</td>\n",
       "    </tr>\n",
       "    <tr>\n",
       "      <th>7</th>\n",
       "      <td>MRI-ESM2-0</td>\n",
       "      <td>r1i1p1f1</td>\n",
       "      <td>historical</td>\n",
       "      <td>MRI</td>\n",
       "      <td>CMIP6.CMIP.MRI.MRI-ESM2-0.historical.r1i1p1f1</td>\n",
       "      <td>1980</td>\n",
       "      <td>1999</td>\n",
       "    </tr>\n",
       "    <tr>\n",
       "      <th>8</th>\n",
       "      <td>CMCC-CM2-SR5</td>\n",
       "      <td>r1i1p1f1</td>\n",
       "      <td>ssp585 (2C)</td>\n",
       "      <td>CMCC</td>\n",
       "      <td>CMIP6.ScenarioMIP.CMCC.CMCC-CM2-SR5.ssp585.r1i...</td>\n",
       "      <td>2024</td>\n",
       "      <td>2043</td>\n",
       "    </tr>\n",
       "    <tr>\n",
       "      <th>9</th>\n",
       "      <td>CMCC-ESM2</td>\n",
       "      <td>r1i1p1f1</td>\n",
       "      <td>ssp585 (2C)</td>\n",
       "      <td>CMCC</td>\n",
       "      <td>CMIP6.ScenarioMIP.CMCC.CMCC-ESM2.ssp585.r1i1p1f1</td>\n",
       "      <td>2030</td>\n",
       "      <td>2049</td>\n",
       "    </tr>\n",
       "    <tr>\n",
       "      <th>10</th>\n",
       "      <td>CNRM-CM6-1</td>\n",
       "      <td>r1i1p1f2</td>\n",
       "      <td>ssp585 (2C)</td>\n",
       "      <td>CNRM-CERFACS</td>\n",
       "      <td>CMIP6.ScenarioMIP.CNRM-CERFACS.CNRM-CM6-1.ssp5...</td>\n",
       "      <td>2031</td>\n",
       "      <td>2050</td>\n",
       "    </tr>\n",
       "    <tr>\n",
       "      <th>11</th>\n",
       "      <td>EC-Earth3</td>\n",
       "      <td>r1i1p1f1</td>\n",
       "      <td>ssp585 (2C)</td>\n",
       "      <td>EC-Earth-Consortium</td>\n",
       "      <td>CMIP6.ScenarioMIP.EC-Earth-Consortium.EC-Earth...</td>\n",
       "      <td>2026</td>\n",
       "      <td>2045</td>\n",
       "    </tr>\n",
       "    <tr>\n",
       "      <th>12</th>\n",
       "      <td>GISS-E2-1-G</td>\n",
       "      <td>r1i1p1f2</td>\n",
       "      <td>ssp585 (2C)</td>\n",
       "      <td>NASA-GISS</td>\n",
       "      <td>CMIP6.ScenarioMIP.NASA-GISS.GISS-E2-1-G.ssp585...</td>\n",
       "      <td>2020</td>\n",
       "      <td>2039</td>\n",
       "    </tr>\n",
       "    <tr>\n",
       "      <th>13</th>\n",
       "      <td>MIROC6</td>\n",
       "      <td>r1i1p1f1</td>\n",
       "      <td>ssp585 (2C)</td>\n",
       "      <td>MIROC</td>\n",
       "      <td>CMIP6.ScenarioMIP.MIROC.MIROC6.ssp585.r1i1p1f1</td>\n",
       "      <td>2044</td>\n",
       "      <td>2063</td>\n",
       "    </tr>\n",
       "    <tr>\n",
       "      <th>14</th>\n",
       "      <td>MPI-ESM1-2-HR</td>\n",
       "      <td>r1i1p1f1</td>\n",
       "      <td>ssp585 (2C)</td>\n",
       "      <td>DKRZ</td>\n",
       "      <td>CMIP6.ScenarioMIP.DKRZ.MPI-ESM1-2-HR.ssp585.r1...</td>\n",
       "      <td>2040</td>\n",
       "      <td>2059</td>\n",
       "    </tr>\n",
       "    <tr>\n",
       "      <th>15</th>\n",
       "      <td>MRI-ESM2-0</td>\n",
       "      <td>r1i1p1f1</td>\n",
       "      <td>ssp585 (2C)</td>\n",
       "      <td>MRI</td>\n",
       "      <td>CMIP6.ScenarioMIP.MRI.MRI-ESM2-0.ssp585.r1i1p1f1</td>\n",
       "      <td>2029</td>\n",
       "      <td>2048</td>\n",
       "    </tr>\n",
       "    <tr>\n",
       "      <th>16</th>\n",
       "      <td>CMCC-CM2-SR5</td>\n",
       "      <td>r1i1p1f1</td>\n",
       "      <td>ssp585 (3C)</td>\n",
       "      <td>CMCC</td>\n",
       "      <td>CMIP6.ScenarioMIP.CMCC.CMCC-CM2-SR5.ssp585.r1i...</td>\n",
       "      <td>2043</td>\n",
       "      <td>2062</td>\n",
       "    </tr>\n",
       "    <tr>\n",
       "      <th>17</th>\n",
       "      <td>CMCC-ESM2</td>\n",
       "      <td>r1i1p1f1</td>\n",
       "      <td>ssp585 (3C)</td>\n",
       "      <td>CMCC</td>\n",
       "      <td>CMIP6.ScenarioMIP.CMCC.CMCC-ESM2.ssp585.r1i1p1f1</td>\n",
       "      <td>2046</td>\n",
       "      <td>2065</td>\n",
       "    </tr>\n",
       "    <tr>\n",
       "      <th>18</th>\n",
       "      <td>CNRM-CM6-1</td>\n",
       "      <td>r1i1p1f2</td>\n",
       "      <td>ssp585 (3C)</td>\n",
       "      <td>CNRM-CERFACS</td>\n",
       "      <td>CMIP6.ScenarioMIP.CNRM-CERFACS.CNRM-CM6-1.ssp5...</td>\n",
       "      <td>2049</td>\n",
       "      <td>2068</td>\n",
       "    </tr>\n",
       "    <tr>\n",
       "      <th>19</th>\n",
       "      <td>EC-Earth3</td>\n",
       "      <td>r1i1p1f1</td>\n",
       "      <td>ssp585 (3C)</td>\n",
       "      <td>EC-Earth-Consortium</td>\n",
       "      <td>CMIP6.ScenarioMIP.EC-Earth-Consortium.EC-Earth...</td>\n",
       "      <td>2048</td>\n",
       "      <td>2067</td>\n",
       "    </tr>\n",
       "    <tr>\n",
       "      <th>20</th>\n",
       "      <td>GISS-E2-1-G</td>\n",
       "      <td>r1i1p1f2</td>\n",
       "      <td>ssp585 (3C)</td>\n",
       "      <td>NASA-GISS</td>\n",
       "      <td>CMIP6.ScenarioMIP.NASA-GISS.GISS-E2-1-G.ssp585...</td>\n",
       "      <td>2047</td>\n",
       "      <td>2066</td>\n",
       "    </tr>\n",
       "    <tr>\n",
       "      <th>21</th>\n",
       "      <td>MIROC6</td>\n",
       "      <td>r1i1p1f1</td>\n",
       "      <td>ssp585 (3C)</td>\n",
       "      <td>MIROC</td>\n",
       "      <td>CMIP6.ScenarioMIP.MIROC.MIROC6.ssp585.r1i1p1f1</td>\n",
       "      <td>2067</td>\n",
       "      <td>2086</td>\n",
       "    </tr>\n",
       "    <tr>\n",
       "      <th>22</th>\n",
       "      <td>MPI-ESM1-2-HR</td>\n",
       "      <td>r1i1p1f1</td>\n",
       "      <td>ssp585 (3C)</td>\n",
       "      <td>DKRZ</td>\n",
       "      <td>CMIP6.ScenarioMIP.DKRZ.MPI-ESM1-2-HR.ssp585.r1...</td>\n",
       "      <td>2064</td>\n",
       "      <td>2083</td>\n",
       "    </tr>\n",
       "    <tr>\n",
       "      <th>23</th>\n",
       "      <td>MRI-ESM2-0</td>\n",
       "      <td>r1i1p1f1</td>\n",
       "      <td>ssp585 (3C)</td>\n",
       "      <td>MRI</td>\n",
       "      <td>CMIP6.ScenarioMIP.MRI.MRI-ESM2-0.ssp585.r1i1p1f1</td>\n",
       "      <td>2055</td>\n",
       "      <td>2074</td>\n",
       "    </tr>\n",
       "  </tbody>\n",
       "</table>\n",
       "</div>"
      ],
      "text/plain": [
       "            model  ensemble          exp       institution_id  \\\n",
       "0    CMCC-CM2-SR5  r1i1p1f1   historical                 CMCC   \n",
       "1       CMCC-ESM2  r1i1p1f1   historical                 CMCC   \n",
       "2      CNRM-CM6-1  r1i1p1f2   historical         CNRM-CERFACS   \n",
       "3       EC-Earth3  r1i1p1f1   historical  EC-Earth-Consortium   \n",
       "4     GISS-E2-1-G  r1i1p1f2   historical            NASA-GISS   \n",
       "5          MIROC6  r1i1p1f1   historical                MIROC   \n",
       "6   MPI-ESM1-2-HR  r1i1p1f1   historical                MPI-M   \n",
       "7      MRI-ESM2-0  r1i1p1f1   historical                  MRI   \n",
       "8    CMCC-CM2-SR5  r1i1p1f1  ssp585 (2C)                 CMCC   \n",
       "9       CMCC-ESM2  r1i1p1f1  ssp585 (2C)                 CMCC   \n",
       "10     CNRM-CM6-1  r1i1p1f2  ssp585 (2C)         CNRM-CERFACS   \n",
       "11      EC-Earth3  r1i1p1f1  ssp585 (2C)  EC-Earth-Consortium   \n",
       "12    GISS-E2-1-G  r1i1p1f2  ssp585 (2C)            NASA-GISS   \n",
       "13         MIROC6  r1i1p1f1  ssp585 (2C)                MIROC   \n",
       "14  MPI-ESM1-2-HR  r1i1p1f1  ssp585 (2C)                 DKRZ   \n",
       "15     MRI-ESM2-0  r1i1p1f1  ssp585 (2C)                  MRI   \n",
       "16   CMCC-CM2-SR5  r1i1p1f1  ssp585 (3C)                 CMCC   \n",
       "17      CMCC-ESM2  r1i1p1f1  ssp585 (3C)                 CMCC   \n",
       "18     CNRM-CM6-1  r1i1p1f2  ssp585 (3C)         CNRM-CERFACS   \n",
       "19      EC-Earth3  r1i1p1f1  ssp585 (3C)  EC-Earth-Consortium   \n",
       "20    GISS-E2-1-G  r1i1p1f2  ssp585 (3C)            NASA-GISS   \n",
       "21         MIROC6  r1i1p1f1  ssp585 (3C)                MIROC   \n",
       "22  MPI-ESM1-2-HR  r1i1p1f1  ssp585 (3C)                 DKRZ   \n",
       "23     MRI-ESM2-0  r1i1p1f1  ssp585 (3C)                  MRI   \n",
       "\n",
       "                                                 desc  start_year  end_year  \n",
       "0    CMIP6.CMIP.CMCC.CMCC-CM2-SR5.historical.r1i1p1f1        1980      1999  \n",
       "1       CMIP6.CMIP.CMCC.CMCC-ESM2.historical.r1i1p1f1        1980      1999  \n",
       "2   CMIP6.CMIP.CNRM-CERFACS.CNRM-CM6-1.historical....        1980      1999  \n",
       "3   CMIP6.CMIP.EC-Earth-Consortium.EC-Earth3.histo...        1980      1999  \n",
       "4   CMIP6.CMIP.NASA-GISS.GISS-E2-1-G.historical.r1...        1980      1999  \n",
       "5         CMIP6.CMIP.MIROC.MIROC6.historical.r1i1p1f1        1980      1999  \n",
       "6   CMIP6.CMIP.MPI-M.MPI-ESM1-2-HR.historical.r1i1...        1980      1999  \n",
       "7       CMIP6.CMIP.MRI.MRI-ESM2-0.historical.r1i1p1f1        1980      1999  \n",
       "8   CMIP6.ScenarioMIP.CMCC.CMCC-CM2-SR5.ssp585.r1i...        2024      2043  \n",
       "9    CMIP6.ScenarioMIP.CMCC.CMCC-ESM2.ssp585.r1i1p1f1        2030      2049  \n",
       "10  CMIP6.ScenarioMIP.CNRM-CERFACS.CNRM-CM6-1.ssp5...        2031      2050  \n",
       "11  CMIP6.ScenarioMIP.EC-Earth-Consortium.EC-Earth...        2026      2045  \n",
       "12  CMIP6.ScenarioMIP.NASA-GISS.GISS-E2-1-G.ssp585...        2020      2039  \n",
       "13     CMIP6.ScenarioMIP.MIROC.MIROC6.ssp585.r1i1p1f1        2044      2063  \n",
       "14  CMIP6.ScenarioMIP.DKRZ.MPI-ESM1-2-HR.ssp585.r1...        2040      2059  \n",
       "15   CMIP6.ScenarioMIP.MRI.MRI-ESM2-0.ssp585.r1i1p1f1        2029      2048  \n",
       "16  CMIP6.ScenarioMIP.CMCC.CMCC-CM2-SR5.ssp585.r1i...        2043      2062  \n",
       "17   CMIP6.ScenarioMIP.CMCC.CMCC-ESM2.ssp585.r1i1p1f1        2046      2065  \n",
       "18  CMIP6.ScenarioMIP.CNRM-CERFACS.CNRM-CM6-1.ssp5...        2049      2068  \n",
       "19  CMIP6.ScenarioMIP.EC-Earth-Consortium.EC-Earth...        2048      2067  \n",
       "20  CMIP6.ScenarioMIP.NASA-GISS.GISS-E2-1-G.ssp585...        2047      2066  \n",
       "21     CMIP6.ScenarioMIP.MIROC.MIROC6.ssp585.r1i1p1f1        2067      2086  \n",
       "22  CMIP6.ScenarioMIP.DKRZ.MPI-ESM1-2-HR.ssp585.r1...        2064      2083  \n",
       "23   CMIP6.ScenarioMIP.MRI.MRI-ESM2-0.ssp585.r1i1p1f1        2055      2074  "
      ]
     },
     "execution_count": 11,
     "metadata": {},
     "output_type": "execute_result"
    }
   ],
   "source": [
    "reload(fh)\n",
    "runs = fh.define_runs(models=models, file='results/runs_list.csv')\n",
    "runs"
   ]
  },
  {
   "cell_type": "code",
   "execution_count": 27,
   "id": "61c88619-718c-4abe-a3e2-85db65afb405",
   "metadata": {},
   "outputs": [
    {
     "data": {
      "text/html": [
       "<div>\n",
       "<style scoped>\n",
       "    .dataframe tbody tr th:only-of-type {\n",
       "        vertical-align: middle;\n",
       "    }\n",
       "\n",
       "    .dataframe tbody tr th {\n",
       "        vertical-align: top;\n",
       "    }\n",
       "\n",
       "    .dataframe thead th {\n",
       "        text-align: right;\n",
       "    }\n",
       "</style>\n",
       "<table border=\"1\" class=\"dataframe\">\n",
       "  <thead>\n",
       "    <tr style=\"text-align: right;\">\n",
       "      <th></th>\n",
       "      <th>model</th>\n",
       "      <th>ensemble</th>\n",
       "      <th>exp</th>\n",
       "      <th>institution_id</th>\n",
       "      <th>desc</th>\n",
       "      <th>start_year</th>\n",
       "      <th>end_year</th>\n",
       "    </tr>\n",
       "  </thead>\n",
       "  <tbody>\n",
       "    <tr>\n",
       "      <th>8</th>\n",
       "      <td>CMCC-CM2-SR5</td>\n",
       "      <td>r1i1p1f1</td>\n",
       "      <td>ssp585 (2C)</td>\n",
       "      <td>CMCC</td>\n",
       "      <td>CMIP6.ScenarioMIP.CMCC.CMCC-CM2-SR5.ssp585.r1i...</td>\n",
       "      <td>2024</td>\n",
       "      <td>2043</td>\n",
       "    </tr>\n",
       "    <tr>\n",
       "      <th>9</th>\n",
       "      <td>CMCC-ESM2</td>\n",
       "      <td>r1i1p1f1</td>\n",
       "      <td>ssp585 (2C)</td>\n",
       "      <td>CMCC</td>\n",
       "      <td>CMIP6.ScenarioMIP.CMCC.CMCC-ESM2.ssp585.r1i1p1f1</td>\n",
       "      <td>2030</td>\n",
       "      <td>2049</td>\n",
       "    </tr>\n",
       "    <tr>\n",
       "      <th>10</th>\n",
       "      <td>CNRM-CM6-1</td>\n",
       "      <td>r1i1p1f2</td>\n",
       "      <td>ssp585 (2C)</td>\n",
       "      <td>CNRM-CERFACS</td>\n",
       "      <td>CMIP6.ScenarioMIP.CNRM-CERFACS.CNRM-CM6-1.ssp5...</td>\n",
       "      <td>2031</td>\n",
       "      <td>2050</td>\n",
       "    </tr>\n",
       "    <tr>\n",
       "      <th>11</th>\n",
       "      <td>EC-Earth3</td>\n",
       "      <td>r1i1p1f1</td>\n",
       "      <td>ssp585 (2C)</td>\n",
       "      <td>EC-Earth-Consortium</td>\n",
       "      <td>CMIP6.ScenarioMIP.EC-Earth-Consortium.EC-Earth...</td>\n",
       "      <td>2026</td>\n",
       "      <td>2045</td>\n",
       "    </tr>\n",
       "    <tr>\n",
       "      <th>12</th>\n",
       "      <td>GISS-E2-1-G</td>\n",
       "      <td>r1i1p1f2</td>\n",
       "      <td>ssp585 (2C)</td>\n",
       "      <td>NASA-GISS</td>\n",
       "      <td>CMIP6.ScenarioMIP.NASA-GISS.GISS-E2-1-G.ssp585...</td>\n",
       "      <td>2020</td>\n",
       "      <td>2039</td>\n",
       "    </tr>\n",
       "    <tr>\n",
       "      <th>13</th>\n",
       "      <td>MIROC6</td>\n",
       "      <td>r1i1p1f1</td>\n",
       "      <td>ssp585 (2C)</td>\n",
       "      <td>MIROC</td>\n",
       "      <td>CMIP6.ScenarioMIP.MIROC.MIROC6.ssp585.r1i1p1f1</td>\n",
       "      <td>2044</td>\n",
       "      <td>2063</td>\n",
       "    </tr>\n",
       "    <tr>\n",
       "      <th>14</th>\n",
       "      <td>MPI-ESM1-2-HR</td>\n",
       "      <td>r1i1p1f1</td>\n",
       "      <td>ssp585 (2C)</td>\n",
       "      <td>DKRZ</td>\n",
       "      <td>CMIP6.ScenarioMIP.DKRZ.MPI-ESM1-2-HR.ssp585.r1...</td>\n",
       "      <td>2040</td>\n",
       "      <td>2059</td>\n",
       "    </tr>\n",
       "    <tr>\n",
       "      <th>15</th>\n",
       "      <td>MRI-ESM2-0</td>\n",
       "      <td>r1i1p1f1</td>\n",
       "      <td>ssp585 (2C)</td>\n",
       "      <td>MRI</td>\n",
       "      <td>CMIP6.ScenarioMIP.MRI.MRI-ESM2-0.ssp585.r1i1p1f1</td>\n",
       "      <td>2029</td>\n",
       "      <td>2048</td>\n",
       "    </tr>\n",
       "    <tr>\n",
       "      <th>16</th>\n",
       "      <td>CMCC-CM2-SR5</td>\n",
       "      <td>r1i1p1f1</td>\n",
       "      <td>ssp585 (3C)</td>\n",
       "      <td>CMCC</td>\n",
       "      <td>CMIP6.ScenarioMIP.CMCC.CMCC-CM2-SR5.ssp585.r1i...</td>\n",
       "      <td>2043</td>\n",
       "      <td>2062</td>\n",
       "    </tr>\n",
       "    <tr>\n",
       "      <th>17</th>\n",
       "      <td>CMCC-ESM2</td>\n",
       "      <td>r1i1p1f1</td>\n",
       "      <td>ssp585 (3C)</td>\n",
       "      <td>CMCC</td>\n",
       "      <td>CMIP6.ScenarioMIP.CMCC.CMCC-ESM2.ssp585.r1i1p1f1</td>\n",
       "      <td>2046</td>\n",
       "      <td>2065</td>\n",
       "    </tr>\n",
       "    <tr>\n",
       "      <th>18</th>\n",
       "      <td>CNRM-CM6-1</td>\n",
       "      <td>r1i1p1f2</td>\n",
       "      <td>ssp585 (3C)</td>\n",
       "      <td>CNRM-CERFACS</td>\n",
       "      <td>CMIP6.ScenarioMIP.CNRM-CERFACS.CNRM-CM6-1.ssp5...</td>\n",
       "      <td>2049</td>\n",
       "      <td>2068</td>\n",
       "    </tr>\n",
       "    <tr>\n",
       "      <th>19</th>\n",
       "      <td>EC-Earth3</td>\n",
       "      <td>r1i1p1f1</td>\n",
       "      <td>ssp585 (3C)</td>\n",
       "      <td>EC-Earth-Consortium</td>\n",
       "      <td>CMIP6.ScenarioMIP.EC-Earth-Consortium.EC-Earth...</td>\n",
       "      <td>2048</td>\n",
       "      <td>2067</td>\n",
       "    </tr>\n",
       "    <tr>\n",
       "      <th>20</th>\n",
       "      <td>GISS-E2-1-G</td>\n",
       "      <td>r1i1p1f2</td>\n",
       "      <td>ssp585 (3C)</td>\n",
       "      <td>NASA-GISS</td>\n",
       "      <td>CMIP6.ScenarioMIP.NASA-GISS.GISS-E2-1-G.ssp585...</td>\n",
       "      <td>2047</td>\n",
       "      <td>2066</td>\n",
       "    </tr>\n",
       "    <tr>\n",
       "      <th>21</th>\n",
       "      <td>MIROC6</td>\n",
       "      <td>r1i1p1f1</td>\n",
       "      <td>ssp585 (3C)</td>\n",
       "      <td>MIROC</td>\n",
       "      <td>CMIP6.ScenarioMIP.MIROC.MIROC6.ssp585.r1i1p1f1</td>\n",
       "      <td>2067</td>\n",
       "      <td>2086</td>\n",
       "    </tr>\n",
       "    <tr>\n",
       "      <th>22</th>\n",
       "      <td>MPI-ESM1-2-HR</td>\n",
       "      <td>r1i1p1f1</td>\n",
       "      <td>ssp585 (3C)</td>\n",
       "      <td>DKRZ</td>\n",
       "      <td>CMIP6.ScenarioMIP.DKRZ.MPI-ESM1-2-HR.ssp585.r1...</td>\n",
       "      <td>2064</td>\n",
       "      <td>2083</td>\n",
       "    </tr>\n",
       "    <tr>\n",
       "      <th>23</th>\n",
       "      <td>MRI-ESM2-0</td>\n",
       "      <td>r1i1p1f1</td>\n",
       "      <td>ssp585 (3C)</td>\n",
       "      <td>MRI</td>\n",
       "      <td>CMIP6.ScenarioMIP.MRI.MRI-ESM2-0.ssp585.r1i1p1f1</td>\n",
       "      <td>2055</td>\n",
       "      <td>2074</td>\n",
       "    </tr>\n",
       "  </tbody>\n",
       "</table>\n",
       "</div>"
      ],
      "text/plain": [
       "            model  ensemble          exp       institution_id  \\\n",
       "8    CMCC-CM2-SR5  r1i1p1f1  ssp585 (2C)                 CMCC   \n",
       "9       CMCC-ESM2  r1i1p1f1  ssp585 (2C)                 CMCC   \n",
       "10     CNRM-CM6-1  r1i1p1f2  ssp585 (2C)         CNRM-CERFACS   \n",
       "11      EC-Earth3  r1i1p1f1  ssp585 (2C)  EC-Earth-Consortium   \n",
       "12    GISS-E2-1-G  r1i1p1f2  ssp585 (2C)            NASA-GISS   \n",
       "13         MIROC6  r1i1p1f1  ssp585 (2C)                MIROC   \n",
       "14  MPI-ESM1-2-HR  r1i1p1f1  ssp585 (2C)                 DKRZ   \n",
       "15     MRI-ESM2-0  r1i1p1f1  ssp585 (2C)                  MRI   \n",
       "16   CMCC-CM2-SR5  r1i1p1f1  ssp585 (3C)                 CMCC   \n",
       "17      CMCC-ESM2  r1i1p1f1  ssp585 (3C)                 CMCC   \n",
       "18     CNRM-CM6-1  r1i1p1f2  ssp585 (3C)         CNRM-CERFACS   \n",
       "19      EC-Earth3  r1i1p1f1  ssp585 (3C)  EC-Earth-Consortium   \n",
       "20    GISS-E2-1-G  r1i1p1f2  ssp585 (3C)            NASA-GISS   \n",
       "21         MIROC6  r1i1p1f1  ssp585 (3C)                MIROC   \n",
       "22  MPI-ESM1-2-HR  r1i1p1f1  ssp585 (3C)                 DKRZ   \n",
       "23     MRI-ESM2-0  r1i1p1f1  ssp585 (3C)                  MRI   \n",
       "\n",
       "                                                 desc  start_year  end_year  \n",
       "8   CMIP6.ScenarioMIP.CMCC.CMCC-CM2-SR5.ssp585.r1i...        2024      2043  \n",
       "9    CMIP6.ScenarioMIP.CMCC.CMCC-ESM2.ssp585.r1i1p1f1        2030      2049  \n",
       "10  CMIP6.ScenarioMIP.CNRM-CERFACS.CNRM-CM6-1.ssp5...        2031      2050  \n",
       "11  CMIP6.ScenarioMIP.EC-Earth-Consortium.EC-Earth...        2026      2045  \n",
       "12  CMIP6.ScenarioMIP.NASA-GISS.GISS-E2-1-G.ssp585...        2020      2039  \n",
       "13     CMIP6.ScenarioMIP.MIROC.MIROC6.ssp585.r1i1p1f1        2044      2063  \n",
       "14  CMIP6.ScenarioMIP.DKRZ.MPI-ESM1-2-HR.ssp585.r1...        2040      2059  \n",
       "15   CMIP6.ScenarioMIP.MRI.MRI-ESM2-0.ssp585.r1i1p1f1        2029      2048  \n",
       "16  CMIP6.ScenarioMIP.CMCC.CMCC-CM2-SR5.ssp585.r1i...        2043      2062  \n",
       "17   CMIP6.ScenarioMIP.CMCC.CMCC-ESM2.ssp585.r1i1p1f1        2046      2065  \n",
       "18  CMIP6.ScenarioMIP.CNRM-CERFACS.CNRM-CM6-1.ssp5...        2049      2068  \n",
       "19  CMIP6.ScenarioMIP.EC-Earth-Consortium.EC-Earth...        2048      2067  \n",
       "20  CMIP6.ScenarioMIP.NASA-GISS.GISS-E2-1-G.ssp585...        2047      2066  \n",
       "21     CMIP6.ScenarioMIP.MIROC.MIROC6.ssp585.r1i1p1f1        2067      2086  \n",
       "22  CMIP6.ScenarioMIP.DKRZ.MPI-ESM1-2-HR.ssp585.r1...        2064      2083  \n",
       "23   CMIP6.ScenarioMIP.MRI.MRI-ESM2-0.ssp585.r1i1p1f1        2055      2074  "
      ]
     },
     "execution_count": 27,
     "metadata": {},
     "output_type": "execute_result"
    }
   ],
   "source": []
  },
  {
   "cell_type": "code",
   "execution_count": 196,
   "id": "92823a7f-75cb-43e3-99b6-686498a65e99",
   "metadata": {},
   "outputs": [
    {
     "data": {
      "image/png": "[encoded data removed]",
      "text/plain": [
       "<Figure size 1000x280 with 8 Axes>"
      ]
     },
     "metadata": {},
     "output_type": "display_data"
    }
   ],
   "source": [
    "fh.plot_run_years(runs, file='results/run_years.pdf')"
   ]
  },
  {
   "cell_type": "markdown",
   "id": "cb2a1c25-fa9b-41e4-a869-65459bce725a",
   "metadata": {},
   "source": [
    "Uncomment the following block to (re)create all scripts for generating convective indices for each run. "
   ]
  },
  {
   "cell_type": "code",
   "execution_count": null,
   "id": "9dffe1ec-05c2-46fb-ad3c-8ac4d5b87dd2",
   "metadata": {},
   "outputs": [],
   "source": [
    "# fh.make_run_scripts(runs=runs)"
   ]
  },
  {
   "cell_type": "code",
   "execution_count": 8,
   "id": "199e44f9-3db1-44a6-9291-a6abcd7dacea",
   "metadata": {},
   "outputs": [
    {
     "name": "stdout",
     "output_type": "stream",
     "text": [
      "/g/data/oi10/replicas/CMIP6/ScenarioMIP/CMCC/CMCC-CM2-SR5/ssp585/r1i1p1f1/6hrLev/va/gn/v20200622\n",
      "/g/data/oi10/replicas/CMIP6/ScenarioMIP/CMCC/CMCC-CM2-SR5/ssp585/r1i1p1f1/6hrLev/ua/gn/v20200622\n",
      "/g/data/oi10/replicas/CMIP6/ScenarioMIP/CMCC/CMCC-CM2-SR5/ssp585/r1i1p1f1/6hrLev/ta/gn/v20200622\n",
      "/g/data/oi10/replicas/CMIP6/ScenarioMIP/CMCC/CMCC-CM2-SR5/ssp585/r1i1p1f1/6hrLev/hus/gn/v20200622\n",
      "/g/data/oi10/replicas/CMIP6/ScenarioMIP/CMCC/CMCC-CM2-SR5/ssp585/r1i1p1f1/6hrLev/ps/gn/v20200622\n",
      "/g/data/oi10/replicas/CMIP6/ScenarioMIP/CMCC/CMCC-CM2-SR5/ssp585/r1i1p1f1/3hr/vas/gn/v20200622\n",
      "/g/data/oi10/replicas/CMIP6/ScenarioMIP/CMCC/CMCC-CM2-SR5/ssp585/r1i1p1f1/3hr/uas/gn/v20200622\n",
      "/g/data/oi10/replicas/CMIP6/ScenarioMIP/CMCC/CMCC-CM2-SR5/ssp585/r1i1p1f1/3hr/huss/gn/v20200622\n"
     ]
    },
    {
     "name": "stderr",
     "output_type": "stream",
     "text": [
      "2023-09-27 17:27:43,802 - distributed.utils_perf - WARNING - full garbage collections took 18% CPU time recently (threshold: 10%)\n",
      "2023-09-27 17:27:46,101 - distributed.utils_perf - WARNING - full garbage collections took 18% CPU time recently (threshold: 10%)\n"
     ]
    },
    {
     "name": "stdout",
     "output_type": "stream",
     "text": [
      "/g/data/oi10/replicas/CMIP6/ScenarioMIP/CMCC/CMCC-CM2-SR5/ssp585/r1i1p1f1/3hr/tas/gn/v20200622\n"
     ]
    },
    {
     "name": "stderr",
     "output_type": "stream",
     "text": [
      "2023-09-27 17:27:48,724 - distributed.utils_perf - WARNING - full garbage collections took 18% CPU time recently (threshold: 10%)\n",
      "2023-09-27 17:27:50,567 - distributed.utils_perf - WARNING - full garbage collections took 18% CPU time recently (threshold: 10%)\n",
      "2023-09-27 17:27:52,814 - distributed.utils_perf - WARNING - full garbage collections took 18% CPU time recently (threshold: 10%)\n"
     ]
    }
   ],
   "source": [
    "b = fh.read_all_CMIP_data(model=\"CMIP6.ScenarioMIP.CMCC.CMCC-CM2-SR5.ssp585.r1i1p1f1\")"
   ]
  },
  {
   "cell_type": "code",
   "execution_count": null,
   "id": "25c69c0c-5dee-440b-aa66-b1f0c8716a74",
   "metadata": {},
   "outputs": [],
   "source": [
    "sorted(runs.desc)"
   ]
  },
  {
   "cell_type": "raw",
   "id": "52379590-9474-4e3c-a482-d0b997a452ad",
   "metadata": {},
   "source": [
    "                                          Running Complete\n",
    "CMCC-CM2-SR5\thistorical\t1980\t1999          x\n",
    "CMCC-CM2-SR5\tssp585 (2C)\t2024\t2043          x\n",
    "CMCC-CM2-SR5\tssp585 (3C)\t2043\t2062  x\n",
    "\n",
    "CMCC-ESM2\t    historical\t1980\t1999          x\n",
    "CMCC-ESM2\t    ssp585 (2C)\t2030\t2049          x\n",
    "CMCC-ESM2\t    ssp585 (3C)\t2046\t2065          x\n",
    "\n",
    "CNRM-CM6-1  \thistorical\t1980\t1999  x\n",
    "CNRM-CM6-1\t    ssp585 (2C)\t2031\t2050  x\n",
    "CNRM-CM6-1\t    ssp585 (3C)\t2049\t2068  \n",
    "\n",
    "EC-Earth3   \thistorical\t1980\t1999          x\n",
    "EC-Earth3\t    ssp585 (2C)\t2026\t2045          x\n",
    "EC-Earth3\t    ssp585 (3C)\t2048\t2067          x\n",
    "\n",
    "GISS-E2-1-G \thistorical\t1980\t1999  x\n",
    "GISS-E2-1-G \tssp585 (2C)\t2020\t2039  x\n",
    "GISS-E2-1-G\t    ssp585 (3C)\t2047\t2066  x\n",
    "\n",
    "MIROC6      \thistorical\t1980\t1999          x\n",
    "MIROC6\t        ssp585 (2C)\t2044\t2063          x\n",
    "MIROC6\t        ssp585 (3C)\t2067\t2086  x\n",
    "\n",
    "MPI-ESM1-2-HR\thistorical\t1980\t1999          x\n",
    "MPI-ESM1-2-HR\tssp585 (2C)\t2040\t2059          x\n",
    "MPI-ESM1-2-HR\tssp585 (3C)\t2064\t2083          x\n",
    "\n",
    "MRI-ESM2-0\t    historical\t1980\t1999          x\n",
    "MRI-ESM2-0\t    ssp585 (2C)\t2029\t2048          x\n",
    "MRI-ESM2-0\t    ssp585 (3C)\t2055\t2074          x"
   ]
  },
  {
   "cell_type": "markdown",
   "id": "613650ab-8cb6-4190-a003-8b4e84bec161",
   "metadata": {},
   "source": [
    "Note that grid information is missing from some files for MRI, CMCC, and MPI. The missing information is (as of 19.05.2023):\n",
    "\n",
    "```\n",
    "MRI: grid-spec gn, orog version gn/v20190603\n",
    "CMCC: grid-spec gn, orog version gn/v20210126\n",
    "MPI: grid-spec gn, orog version gn/v20190710\n",
    "```"
   ]
  },
  {
   "cell_type": "markdown",
   "id": "e95fc8ea-83bd-4978-a853-364f6b1828d6",
   "metadata": {
    "jp-MarkdownHeadingCollapsed": true
   },
   "source": [
    "## Process CMIP6 data\n",
    "\n",
    "Scripts are generated for each model/experiment, under\n",
    "    \n",
    "```\n",
    "scripts/{model_name}/process_CMIP_{model_name}_{experiment}-1.sh\n",
    "scripts/{model_name}/process_CMIP_{model_name}_{experiment}-2.sh\n",
    "```\n",
    "\n",
    "The first processes the first 10 years, the second the last 10 years.\n",
    "\n",
    "Post-processing into annual/seasonal statistics is done by:\n",
    "\n",
    "```\n",
    "post_process_CMIP.sh\n",
    "```"
   ]
  },
  {
   "cell_type": "markdown",
   "id": "ef9ce411-c3d9-4368-9ec5-ea7eb009a3b9",
   "metadata": {},
   "source": [
    "## Read processed data"
   ]
  },
  {
   "cell_type": "code",
   "execution_count": null,
   "id": "5416b043-9ca1-47a0-95a4-9bab32c0da1e",
   "metadata": {
    "tags": []
   },
   "outputs": [],
   "source": [
    "data_dir = '/g/data/up6/tr2908/future_hail_global/CMIP_conv_annual_stats/'\n",
    "data_exp = '*common_grid.nc'\n",
    "rename_models = {'EC-Earth_Consortium.EC-Earth3': 'EC-Earth3'}\n",
    "\n",
    "# Regrid native grids to common grids.\n",
    "fh.regrid_global(path=f'{data_dir}/*native_grid.nc')\n",
    "\n",
    "# Open all data.\n",
    "dat = xarray.open_mfdataset(f'{data_dir}/{data_exp}')\n",
    "\n",
    "# Shorten model names if required.\n",
    "dat = dat.assign_coords({'model': [rename_models[x] if x in rename_models else x for x in dat.model.values]})\n",
    "\n",
    "# Open landsea mask.\n",
    "lsm = fh.make_landsea_mask()\n",
    "\n",
    "# Mask to land area only.\n",
    "dat_land = dat.where(lsm.land == 1)\n",
    "\n",
    "# Load for speed.\n",
    "dat = dat.persist()\n",
    "dat_land = dat_land.persist()\n",
    "\n",
    "# Transpose - for the ttest the axis over which the t-test should be applied ('year_num') must be first after model/epoch selection.\n",
    "dat = dat.transpose('model', 'epoch', 'year_num', 'season', 'lat', 'lon')"
   ]
  },
  {
   "cell_type": "markdown",
   "id": "7e184e6a-0913-4341-abe8-ffb87e856642",
   "metadata": {},
   "source": [
    "**CHECK that each model contains the correct epoch and number of timesteps in the annual/seasonal stats**"
   ]
  },
  {
   "cell_type": "markdown",
   "id": "ddad7edb-df24-4181-8d60-cea5666bfb15",
   "metadata": {},
   "source": [
    "## Global hail climatology for historical period"
   ]
  },
  {
   "cell_type": "code",
   "execution_count": null,
   "id": "c08b9e2b-38ce-4dc5-b0ed-0630f9bd8b61",
   "metadata": {
    "tags": []
   },
   "outputs": [],
   "source": [
    "_ = fh.plot_map([dat.annual_hail_proxy.mean('year_num').sel(model=m, epoch='historical') for m in dat.model],\n",
    "                title=[f'{m}' for m in dat.model.values], figsize=(12,6), disp_proj=ccrs.Robinson(),\n",
    "                ncols=2, nrows=2, share_scale=True, share_axes=True, grid=False, contour=True,\n",
    "                scale_label='Mean annual hail-prone days')"
   ]
  },
  {
   "cell_type": "markdown",
   "id": "a538f688-c6c0-4d23-9928-a323fd685752",
   "metadata": {},
   "source": [
    "## Australian hail climatology for historical period"
   ]
  },
  {
   "cell_type": "code",
   "execution_count": null,
   "id": "094dcb86-a771-4361-bfcc-4d1d40de4e6a",
   "metadata": {
    "tags": []
   },
   "outputs": [],
   "source": [
    "d = [dat_land.annual_hail_proxy.mean('year_num').sel(model=m, epoch='historical', lat=slice(-45,-10), lon=slice(110,157)) for m in dat.model]\n",
    "_ = fh.plot_map(d, title=[f'{m}' for m in dat.model.values], figsize=(12,4), nan_colour='white', contour=True,\n",
    "                ncols=4, nrows=1, share_scale=True, share_axes=True, grid=False, country='Australia', axis_off=True,\n",
    "                scale_label='Mean annual hail-prone days')"
   ]
  },
  {
   "cell_type": "code",
   "execution_count": null,
   "id": "2a75d712-3182-482d-8da1-17c78d3bf9eb",
   "metadata": {
    "tags": []
   },
   "outputs": [],
   "source": [
    "fh.plot_seasonal_maps(dat=dat_land.sel(epoch='historical'), variable='seasonal_hail_proxy', \n",
    "                      lat_range=slice(-45,-10), lon_range=slice(110,157), country='Australia', contour=True, \n",
    "                      axis_off=True, grid=False, figsize=(12,8), scale_label='Hail-prone days per season')"
   ]
  },
  {
   "cell_type": "code",
   "execution_count": null,
   "id": "3bf95ec6-e5a4-4b84-b924-f4176bfe646e",
   "metadata": {
    "tags": []
   },
   "outputs": [],
   "source": [
    "model = 'CMCC-ESM2'\n",
    "hist_epoch = 'historical'\n",
    "fut_epoch = '2C'\n",
    "import scipy as sp\n",
    "variable = 'seasonal_hail_proxy'\n",
    "statres, pval = sp.stats.ttest_rel(a=dat.sel(epoch=fut_epoch, model=model, season='DJF')[variable].values, \n",
    "                                   b=dat.sel(epoch=hist_epoch, model=model, season='DJF')[variable].values)"
   ]
  },
  {
   "cell_type": "code",
   "execution_count": null,
   "id": "581f004e-d5cd-42f7-aab0-3c7b0f52cd89",
   "metadata": {
    "tags": []
   },
   "outputs": [],
   "source": [
    "res_dims = list(dat.sel(epoch=fut_epoch, model=model)[variable].dims)[1:]\n",
    "{x: dat[x].values for x in res_dims}"
   ]
  },
  {
   "cell_type": "code",
   "execution_count": null,
   "id": "d0e32f4b-ea26-44ba-b772-7090db1a1650",
   "metadata": {
    "tags": []
   },
   "outputs": [],
   "source": [
    "reload(fh)"
   ]
  },
  {
   "cell_type": "code",
   "execution_count": null,
   "id": "3cc3d357-e912-4ca8-90a3-403baa49aa32",
   "metadata": {
    "tags": []
   },
   "outputs": [],
   "source": [
    "d = fh.ttest(dat=dat, fut_epoch='2C', variable='seasonal_hail_proxy')"
   ]
  },
  {
   "cell_type": "code",
   "execution_count": null,
   "id": "23bc919a-5c3c-4559-b8d8-e9fe37ab04fb",
   "metadata": {
    "tags": []
   },
   "outputs": [],
   "source": [
    "dat"
   ]
  },
  {
   "cell_type": "code",
   "execution_count": null,
   "id": "5772387a-1d4c-4bf3-ae0a-da4b24057f46",
   "metadata": {
    "tags": []
   },
   "outputs": [],
   "source": [
    "fut_epoch='2C'\n",
    "\n",
    "res = []\n",
    "for variable in ['annual_hail_proxy']:\n",
    "    print(variable)\n",
    "    tt = fh.ttest(dat=dat, fut_epoch=fut_epoch, variable=variable)\n",
    "    diffs = dat[variable].sel(epoch=fut_epoch) - dat[variable].sel(epoch='historical')\n",
    "\n",
    "    r = xarray.Dataset({f'{variable}_mean_diff': diffs.mean('year_num'),\n",
    "                        f'{variable}_sig_diff': tt.sig})\n",
    "    r[f'{variable}_mean_diff'].attrs = dat[variable].attrs\n",
    "    res.append(r)\n",
    "    \n",
    "res = xarray.merge(res)"
   ]
  },
  {
   "cell_type": "code",
   "execution_count": null,
   "id": "1a57ecbb-60d8-4ab9-bbfc-ea2c38124659",
   "metadata": {
    "tags": []
   },
   "outputs": [],
   "source": [
    "diffs = res\n",
    "variable = 'annual_hail_proxy_mean_diff'\n",
    "diffs[variable]"
   ]
  },
  {
   "cell_type": "code",
   "execution_count": null,
   "id": "4488e100-a75f-4144-8a82-37af96737ab4",
   "metadata": {
    "tags": []
   },
   "outputs": [],
   "source": [
    "diffs = res\n",
    "variable = 'annual_hail_proxy_mean_diff'"
   ]
  },
  {
   "cell_type": "code",
   "execution_count": null,
   "id": "06a0425a-d582-411a-a192-5b110b028734",
   "metadata": {
    "tags": []
   },
   "outputs": [],
   "source": [
    "reload(fh)\n",
    "\n",
    "sign_aggreement = (np.sign(diffs[variable]).sum('model'))\n",
    "significant_change = tt.sig.sum('model')\n",
    "s = np.logical_and(significant_change == dat.model.size,\n",
    "                   np.abs(sign_aggreement) == dat.model.size)\n",
    "                  \n",
    "m = diffs[variable].mean('model')\n",
    "m.attrs['long_name'] = 'Mean change in annual hail-prone days'\n",
    "    \n",
    "_ = fh.plot_map(dat=m, grid=False, divergent=True,\n",
    "                scale_label='Mean change in annual hail-prone days',\n",
    "                stippling=s, cmap='RdBu_r', figsize=(12,6), disp_proj=ccrs.Robinson())"
   ]
  },
  {
   "cell_type": "code",
   "execution_count": null,
   "id": "b80c2dce-33c8-43ab-a392-be0cb90d9a26",
   "metadata": {},
   "outputs": [],
   "source": []
  },
  {
   "cell_type": "markdown",
   "id": "6d54e78b-6b13-42d9-9f81-fc0f2e957e04",
   "metadata": {},
   "source": [
    "Using [Metagrid](https://aims2.llnl.gov/search) to search for CMIP6 data with:\n",
    "\n",
    "Variables: ua, uas, va, vas, ta, tas, hus, huss, ps\n",
    "Table ID: 6hrLev, 3hr\n",
    "Experiments: ssp585, historical\n",
    "Variant: r1i1p1f1\n",
    "Resolutions: 50, 100, 250 km\n",
    "\n",
    "And then selecting models one by one and looking for those with >18 results (9 variables, two experiments):\n",
    "\n",
    "Not available on NCI - requested\n",
    "\n",
    "* BCC-CSM2-MR\n",
    "    - `CMIP6.CMIP.BCC.BCC-CSM2-MR.historical.r1i1p1f1`\n",
    "    - `CMIP6.ScenarioMIP.BCC.BCC-CSM2-MR.ssp585.r1i1p1f1`\n",
    "\n",
    "* CMCC-CM2-SR5\n",
    "    - `CMIP6.CMIP.CMCC.CMCC-CM2-SR5.historical.r1i1p1f1`\n",
    "    - `CMIP6.ScenarioMIP.CMCC.CMCC-CM2-SR5.ssp585.r1i1p1f1`\n",
    "    \n",
    "* CNRM-CM6-1\n",
    "    - `CMIP6.CMIP.CNRM-CERFACS.CNRM-CM6-1.historical.r1i1p1f2`\n",
    "    - `CMIP6.ScenarioMIP.CNRM-CERFACS.CNRM-CM6-1.ssp585.r1i1p1f2`\n",
    "    \n",
    "* GISS-E2-1-G (250 km)\n",
    "    - `CMIP6.CMIP.NASA-GISS.GISS-E2-1-G.historical.r1i1p1f2`\n",
    "    - `CMIP6.ScenarioMIP.NASA-GISS.GISS-E2-1-G.ssp585.r1i1p1f2`\n",
    "    \n",
    "* MIROC6 (250 km)\n",
    "    - `CMIP6.CMIP.MIROC.MIROC6.historical.r1i1p1f1`\n",
    "    - `CMIP6.ScenarioMIP.MIROC.MIROC6.ssp585.r1i1p1f1`\n",
    "    \n",
    "* NESM3\n",
    "    - `CMIP6.CMIP.NUIST.NESM3.historical.r1i1p1f1`\n",
    "    - `CMIP6.ScenarioMIP.NUIST.NESM3.ssp585.r1i1p1f1`\n",
    "\n",
    "\n"
   ]
  }
 ],
 "metadata": {
  "kernelspec": {
   "display_name": "Python [conda env:analysis3]",
   "language": "python",
   "name": "conda-env-analysis3-py"
  },
  "language_info": {
   "codemirror_mode": {
    "name": "ipython",
    "version": 3
   },
   "file_extension": ".py",
   "mimetype": "text/x-python",
   "name": "python",
   "nbconvert_exporter": "python",
   "pygments_lexer": "ipython3",
   "version": "3.9.17"
  }
 },
 "nbformat": 4,
 "nbformat_minor": 5
}
