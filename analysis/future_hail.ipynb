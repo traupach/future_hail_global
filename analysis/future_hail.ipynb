{
 "cells": [
  {
   "cell_type": "markdown",
   "id": "f7b6877c-161b-49bc-8129-aee584237ddf",
   "metadata": {
    "tags": []
   },
   "source": [
    "# Future projections of global hail hazard"
   ]
  },
  {
   "cell_type": "code",
   "execution_count": 1,
   "id": "4e408329-5385-455d-84ec-5557b59cc5ef",
   "metadata": {
    "tags": []
   },
   "outputs": [
    {
     "name": "stdout",
     "output_type": "stream",
     "text": [
      "/home/561/tr2908/git/future_hail_global\n"
     ]
    }
   ],
   "source": [
    "%cd git/future_hail_global/"
   ]
  },
  {
   "cell_type": "code",
   "execution_count": 2,
   "id": "40060e31-7116-4308-a47a-95e86701ec8d",
   "metadata": {
    "tags": []
   },
   "outputs": [],
   "source": [
    "import sys\n",
    "sys.path.append('../xarray_parcel/')\n",
    "sys.path.append('../aus400_hail/')\n",
    "sys.path.append('../warming_levels/')\n",
    "                \n",
    "import dask\n",
    "import xarray\n",
    "import warnings\n",
    "import numpy as np\n",
    "import itertools\n",
    "import pandas as pd\n",
    "from glob import glob\n",
    "import seaborn as sns\n",
    "from clef.code import *\n",
    "import cartopy.crs as ccrs\n",
    "from importlib import reload\n",
    "import modules.fut_hail as fh\n",
    "import matplotlib.pyplot as plt\n",
    "import modules.updated_proxy as up\n",
    "import modules.warming_levels as wl\n",
    "from matplotlib.colors import TwoSlopeNorm\n",
    "from dask.distributed import Client, Scheduler, LocalCluster"
   ]
  },
  {
   "cell_type": "markdown",
   "id": "4486d0cb-c81b-4d4c-b235-57f2783ca167",
   "metadata": {},
   "source": [
    "## Setup"
   ]
  },
  {
   "cell_type": "code",
   "execution_count": 3,
   "id": "29166fc0-79ad-4e31-9232-6991abfd9a0d",
   "metadata": {
    "tags": []
   },
   "outputs": [
    {
     "name": "stderr",
     "output_type": "stream",
     "text": [
      "/g/data/hh5/public/apps/miniconda3/envs/analysis3-24.01/lib/python3.10/site-packages/distributed/node.py:182: UserWarning: Port 8787 is already in use.\n",
      "Perhaps you already have a cluster running?\n",
      "Hosting the HTTP server on port 35083 instead\n",
      "  warnings.warn(\n"
     ]
    },
    {
     "name": "stdout",
     "output_type": "stream",
     "text": [
      "<Client: 'tcp://127.0.0.1:38863' processes=8 threads=32, memory=125.18 GiB>\n"
     ]
    },
    {
     "name": "stderr",
     "output_type": "stream",
     "text": [
      "2024-07-01 15:08:12,182 - distributed.nanny.memory - WARNING - Worker tcp://127.0.0.1:43067 (pid=4025544) exceeded 95% memory budget. Restarting...\n",
      "2024-07-01 15:08:12,967 - distributed.scheduler - WARNING - Removing worker 'tcp://127.0.0.1:43067' caused the cluster to lose already computed task(s), which will be recomputed elsewhere: {('concatenate-c9827eb76344da671db2b680eb869b1c', 550, 0, 1), ('concatenate-c9827eb76344da671db2b680eb869b1c', 601, 1, 1), ('concatenate-c9827eb76344da671db2b680eb869b1c', 550, 1, 0), ('concatenate-c9827eb76344da671db2b680eb869b1c', 551, 0, 0), ('concatenate-c9827eb76344da671db2b680eb869b1c', 443, 1, 0), ('concatenate-c9827eb76344da671db2b680eb869b1c', 608, 0, 0), ('open_dataset-concatenate-c9827eb76344da671db2b680eb869b1c', 440, 0, 0), ('concatenate-c9827eb76344da671db2b680eb869b1c', 609, 0, 0), ('concatenate-c9827eb76344da671db2b680eb869b1c', 442, 1, 1), ('concatenate-c9827eb76344da671db2b680eb869b1c', 444, 0, 1), ('concatenate-c9827eb76344da671db2b680eb869b1c', 448, 1, 1), ('concatenate-c9827eb76344da671db2b680eb869b1c', 554, 0, 0), ('concatenate-c9827eb76344da671db2b680eb869b1c', 440, 1, 0), ('concatenate-c9827eb76344da671db2b680eb869b1c', 551, 1, 1), ('concatenate-c9827eb76344da671db2b680eb869b1c', 555, 1, 0), ('concatenate-c9827eb76344da671db2b680eb869b1c', 441, 0, 0), ('concatenate-c9827eb76344da671db2b680eb869b1c', 535, 1, 1), ('concatenate-c9827eb76344da671db2b680eb869b1c', 608, 1, 1), ('concatenate-c9827eb76344da671db2b680eb869b1c', 440, 0, 1), ('concatenate-c9827eb76344da671db2b680eb869b1c', 536, 1, 1), ('concatenate-c9827eb76344da671db2b680eb869b1c', 550, 0, 0), ('concatenate-c9827eb76344da671db2b680eb869b1c', 609, 1, 1), ('concatenate-c9827eb76344da671db2b680eb869b1c', 601, 1, 0), ('xarray-getitem-c80affe818ea2136dd319cde2c720c6f', 0, 0, 0), ('concatenate-c9827eb76344da671db2b680eb869b1c', 555, 0, 1), ('concatenate-c9827eb76344da671db2b680eb869b1c', 443, 0, 0), ('concatenate-c9827eb76344da671db2b680eb869b1c', 444, 0, 0), ('concatenate-c9827eb76344da671db2b680eb869b1c', 442, 0, 1), 'original-open_dataset-freezing_level-ab506ecc767d64e91b71c79cdce3c852', ('concatenate-c9827eb76344da671db2b680eb869b1c', 448, 1, 0), ('concatenate-c9827eb76344da671db2b680eb869b1c', 442, 1, 0), ('concatenate-c9827eb76344da671db2b680eb869b1c', 554, 1, 1), ('concatenate-c9827eb76344da671db2b680eb869b1c', 551, 1, 0), ('concatenate-c9827eb76344da671db2b680eb869b1c', 535, 1, 0), ('concatenate-c9827eb76344da671db2b680eb869b1c', 608, 1, 0), ('concatenate-c9827eb76344da671db2b680eb869b1c', 441, 1, 1), 'original-open_dataset-freezing_level-d2febb6544e5cf45e7938b381040cd4c', ('concatenate-c9827eb76344da671db2b680eb869b1c', 535, 0, 1), ('concatenate-c9827eb76344da671db2b680eb869b1c', 609, 1, 0), ('concatenate-c9827eb76344da671db2b680eb869b1c', 448, 0, 1), ('concatenate-c9827eb76344da671db2b680eb869b1c', 444, 1, 1), ('concatenate-c9827eb76344da671db2b680eb869b1c', 536, 0, 1), ('concatenate-c9827eb76344da671db2b680eb869b1c', 551, 0, 1), ('concatenate-c9827eb76344da671db2b680eb869b1c', 550, 1, 1), ('concatenate-c9827eb76344da671db2b680eb869b1c', 555, 0, 0), ('array-2e04a82ddb2915bff586b995d41813a1', 3, 0, 0), ('concatenate-c9827eb76344da671db2b680eb869b1c', 536, 1, 0), ('concatenate-c9827eb76344da671db2b680eb869b1c', 443, 1, 1), ('concatenate-c9827eb76344da671db2b680eb869b1c', 608, 0, 1), ('concatenate-c9827eb76344da671db2b680eb869b1c', 442, 0, 0), ('array-2e04a82ddb2915bff586b995d41813a1', 6, 0, 0), ('concatenate-c9827eb76344da671db2b680eb869b1c', 609, 0, 1), ('concatenate-c9827eb76344da671db2b680eb869b1c', 440, 1, 1), ('concatenate-c9827eb76344da671db2b680eb869b1c', 554, 1, 0), ('open_dataset-concatenate-c9827eb76344da671db2b680eb869b1c', 439, 1, 1), ('concatenate-c9827eb76344da671db2b680eb869b1c', 554, 0, 1), ('concatenate-c9827eb76344da671db2b680eb869b1c', 441, 1, 0), ('concatenate-c9827eb76344da671db2b680eb869b1c', 555, 1, 1), ('concatenate-c9827eb76344da671db2b680eb869b1c', 535, 0, 0), ('concatenate-c9827eb76344da671db2b680eb869b1c', 441, 0, 1), ('concatenate-c9827eb76344da671db2b680eb869b1c', 448, 0, 0), ('concatenate-c9827eb76344da671db2b680eb869b1c', 444, 1, 0), ('concatenate-c9827eb76344da671db2b680eb869b1c', 536, 0, 0)} (stimulus_id='handle-worker-cleanup-1719810492.9665222')\n",
      "2024-07-01 15:08:14,104 - distributed.nanny - WARNING - Restarting worker\n",
      "2024-07-01 15:08:57,681 - distributed.nanny.memory - WARNING - Worker tcp://127.0.0.1:34687 (pid=4025537) exceeded 95% memory budget. Restarting...\n",
      "2024-07-01 15:08:58,392 - distributed.scheduler - WARNING - Removing worker 'tcp://127.0.0.1:34687' caused the cluster to lose already computed task(s), which will be recomputed elsewhere: {('concatenate-c9827eb76344da671db2b680eb869b1c', 158, 1, 1), ('concatenate-c9827eb76344da671db2b680eb869b1c', 185, 0, 0), ('open_dataset-concatenate-c9827eb76344da671db2b680eb869b1c', 817, 1, 1), ('rechunk-merge-e5e11ea0c6573875efa2de44a85563f4', 23, 0, 0), ('concatenate-c9827eb76344da671db2b680eb869b1c', 157, 1, 0), ('concatenate-c9827eb76344da671db2b680eb869b1c', 621, 1, 0), ('open_dataset-concatenate-c9827eb76344da671db2b680eb869b1c', 621, 0, 1), ('concatenate-c9827eb76344da671db2b680eb869b1c', 156, 1, 0), 'original-open_dataset-freezing_level-134eb2428a9bd853b5186b5e83db6158', ('concatenate-c9827eb76344da671db2b680eb869b1c', 157, 0, 1), ('concatenate-c9827eb76344da671db2b680eb869b1c', 159, 0, 0), ('xarray-getitem-c80affe818ea2136dd319cde2c720c6f', 0, 0, 0), ('concatenate-c9827eb76344da671db2b680eb869b1c', 158, 1, 0), ('concatenate-c9827eb76344da671db2b680eb869b1c', 158, 0, 1), ('open_dataset-concatenate-c9827eb76344da671db2b680eb869b1c', 817, 1, 0), ('open_dataset-concatenate-c9827eb76344da671db2b680eb869b1c', 817, 0, 1), ('rechunk-merge-e5e11ea0c6573875efa2de44a85563f4', 24, 0, 0), ('rechunk-merge-30e9abe9aede687af99810f3b3034da0', 23, 0, 0), ('concatenate-c9827eb76344da671db2b680eb869b1c', 159, 1, 1), ('concatenate-c9827eb76344da671db2b680eb869b1c', 158, 0, 0), ('rechunk-merge-30e9abe9aede687af99810f3b3034da0', 24, 0, 0), ('concatenate-c9827eb76344da671db2b680eb869b1c', 157, 1, 1), ('concatenate-c9827eb76344da671db2b680eb869b1c', 621, 1, 1), ('concatenate-c9827eb76344da671db2b680eb869b1c', 156, 1, 1), ('concatenate-c9827eb76344da671db2b680eb869b1c', 159, 0, 1), ('concatenate-c9827eb76344da671db2b680eb869b1c', 159, 1, 0), ('open_dataset-concatenate-c9827eb76344da671db2b680eb869b1c', 620, 1, 0)} (stimulus_id='handle-worker-cleanup-1719810538.3910496')\n",
      "2024-07-01 15:08:59,275 - distributed.nanny - WARNING - Restarting worker\n",
      "2024-07-01 15:09:29,581 - distributed.nanny.memory - WARNING - Worker tcp://127.0.0.1:35969 (pid=4025533) exceeded 95% memory budget. Restarting...\n",
      "2024-07-01 15:09:29,872 - distributed.scheduler - WARNING - Removing worker 'tcp://127.0.0.1:35969' caused the cluster to lose already computed task(s), which will be recomputed elsewhere: {('rechunk-merge-7ca77a9e73036d03521e675c5f91b666', 6, 0, 0), ('rechunk-merge-64aefb7e45ff57f198d66760c2195f88', 6, 0, 0), 'original-xarray-<this-array>-43964e62f67aa4ef77ccb5b564b70d8d', ('all-partial-efa9e6082ac8e6265e29fa2483798686', 5, 0, 0)} (stimulus_id='handle-worker-cleanup-1719810569.8714128')\n",
      "2024-07-01 15:09:30,023 - distributed.nanny - WARNING - Restarting worker\n",
      "2024-07-01 15:10:18,580 - distributed.nanny.memory - WARNING - Worker tcp://127.0.0.1:44579 (pid=4025517) exceeded 95% memory budget. Restarting...\n",
      "2024-07-01 15:10:19,183 - distributed.scheduler - WARNING - Removing worker 'tcp://127.0.0.1:44579' caused the cluster to lose already computed task(s), which will be recomputed elsewhere: {('all-partial-5483292b9f4a39571a5b35f4ee19462e', 4, 0, 0), 'original-xarray-<this-array>-43964e62f67aa4ef77ccb5b564b70d8d'} (stimulus_id='handle-worker-cleanup-1719810619.1832964')\n",
      "2024-07-01 15:10:19,219 - distributed.nanny - WARNING - Restarting worker\n",
      "2024-07-01 15:10:47,080 - distributed.nanny.memory - WARNING - Worker tcp://127.0.0.1:44145 (pid=4025531) exceeded 95% memory budget. Restarting...\n",
      "2024-07-01 15:10:47,245 - distributed.scheduler - WARNING - Removing worker 'tcp://127.0.0.1:44145' caused the cluster to lose already computed task(s), which will be recomputed elsewhere: {('rechunk-merge-64aefb7e45ff57f198d66760c2195f88', 5, 0, 0), ('rechunk-merge-7ca77a9e73036d03521e675c5f91b666', 1, 0, 0), ('rechunk-merge-7ca77a9e73036d03521e675c5f91b666', 5, 0, 0), 'original-xarray-<this-array>-43964e62f67aa4ef77ccb5b564b70d8d', ('rechunk-merge-64aefb7e45ff57f198d66760c2195f88', 1, 0, 0)} (stimulus_id='handle-worker-cleanup-1719810647.2445164')\n",
      "2024-07-01 15:10:47,350 - distributed.nanny - WARNING - Restarting worker\n",
      "2024-07-01 15:11:11,883 - distributed.nanny.memory - WARNING - Worker tcp://127.0.0.1:45717 (pid=4026285) exceeded 95% memory budget. Restarting...\n",
      "2024-07-01 15:11:12,482 - distributed.scheduler - ERROR - Task ('xarray-getitem-c80affe818ea2136dd319cde2c720c6f', 0, 0, 0) marked as failed because 4 workers died while trying to run it\n",
      "2024-07-01 15:11:12,484 - distributed.scheduler - WARNING - Removing worker 'tcp://127.0.0.1:45717' caused the cluster to lose already computed task(s), which will be recomputed elsewhere: {('rechunk-merge-64aefb7e45ff57f198d66760c2195f88', 19, 0, 0), ('rechunk-merge-7ca77a9e73036d03521e675c5f91b666', 18, 0, 0), ('rechunk-merge-64aefb7e45ff57f198d66760c2195f88', 6, 0, 0), ('rechunk-merge-7ca77a9e73036d03521e675c5f91b666', 19, 0, 0), 'original-xarray-<this-array>-43964e62f67aa4ef77ccb5b564b70d8d', ('rechunk-merge-64aefb7e45ff57f198d66760c2195f88', 18, 0, 0), ('rechunk-merge-7ca77a9e73036d03521e675c5f91b666', 6, 0, 0), 'original-open_dataset-freezing_level-1b92778672b1a184b10dd1096f6dedb7'} (stimulus_id='handle-worker-cleanup-1719810672.481299')\n",
      "2024-07-01 15:11:13,014 - distributed.nanny - WARNING - Restarting worker\n"
     ]
    }
   ],
   "source": [
    "_ = dask.config.set(**{'array.slicing.split_large_chunks': False})\n",
    "client = Client(n_workers=8, threads_per_worker=4)\n",
    "print(client)"
   ]
  },
  {
   "cell_type": "code",
   "execution_count": 4,
   "id": "b4b46455-b3c4-4232-b84b-808692fcac26",
   "metadata": {},
   "outputs": [],
   "source": [
    "base_dir = '/g/data/up6/tr2908/future_hail_global/CMIP_conv/' # Base directory under which to find CMIP6 files.\n",
    "out_dir = '/g/data/up6/tr2908/future_hail_global/CMIP_detrended/proxy_results' # Output directory for cached outputs.\n",
    "detrended_dir = '/g/data/up6/tr2908/future_hail_global/CMIP_detrended/ingredients' # Directory for detrended ingredients.\n",
    "proxy_results_file = '../../aus400_hail/results/results_era5.json' # Trained proxy definition file. \n",
    "proxy_conds_file = '../../aus400_hail/results/era5_proxy_extra_conds.csv' # Extra conditions proxy file.\n",
    "detrended_ing = ['freezing_level', 'lapse_rate_700_500', 'melting_level', 'mixed_100_cape', \n",
    "                 'mixed_100_cin', 'mixed_100_dci', 'mixed_100_lifted_index', 'mu_cape', \n",
    "                 'mu_cin', 'mu_mixing_ratio', 'shear_magnitude', 'temp_500']\n",
    "\n",
    "model_num = 1\n",
    "\n",
    "# Get model directory.\n",
    "model_dirs = sorted(glob(f'{base_dir}/*/'))\n",
    "model_dir = model_dirs[model_num]\n",
    "subdir = glob(f'{model_dir}ssp585')[0] # Future epoch to process.\n",
    "\n",
    "dirs = subdir.split('/')\n",
    "epoch = dirs.pop()\n",
    "model = dirs.pop()\n",
    "outfile = f'{out_dir}/{model}_{epoch}_proxies_detrended_'\n",
    "print(outfile)\n",
    "\n",
    "# Open input data.\n",
    "dat = xarray.open_mfdataset(f'{subdir}/*.nc', parallel=True)\n",
    "dat = dat.chunk({'time': 1000, 'lat': -1, 'lon': -1})\n",
    "\n",
    "for ing in detrended_ing:\n",
    "    outfile_ing = f'{outfile}{ing}.nc'\n",
    "    if not os.path.exists(outfile_ing):\n",
    "    \n",
    "    print(f'Calculating proxies with detrended {ing}.')\n",
    "    detrended_file = glob(f'{detrended_dir}/{model}.{ing}.detrended*.nc')\n",
    "    assert len(detrended_file) == 1, 'Error finding detrended ingredient.'\n",
    "    detrended_file = detrended_file[0]\n",
    "\n",
    "    # Open detrended data.\n",
    "    detrended_ingredient = xarray.open_dataset(detrended_file)[ing]\n",
    "    detrended_ingredient = detrended_ingredient.chunk({'time': 1000, 'lat': -1, 'lon': -1})\n",
    "\n",
    "    # Align times.\n",
    "    if not np.all(dat.time == detrended_ingredient.time):\n",
    "        dat = dat.sel(time=detrended_ingredient.time)\n",
    "    assert np.all(dat.time == detrended_ingredient.time), 'Time mismatch.'\n",
    "\n",
    "    # Replace detrended ingredient.\n",
    "    detrended = dat.copy()\n",
    "    detrended[ing] = detrended_ingredient\n",
    "\n",
    "    # Calculate literature cape-shear proxies.\n",
    "    print('Literature proxies...')\n",
    "    prox = fh.storm_proxies(dat=dat)\n",
    "\n",
    "    # Add Raupach hail proxies.\n",
    "    print('Raupach proxies...')\n",
    "    prox['proxy_Raupach2023_original'] = up.apply_Raupach_proxy(dat=dat, results_file=proxy_results_file, \n",
    "                                                                extra_conds_file=proxy_conds_file, load=False, \n",
    "                                                                band_limits=None)\n",
    "    prox['proxy_Raupach2023_original_noconds'] = up.apply_Raupach_proxy(dat=dat, results_file=proxy_results_file, \n",
    "                                                                        extra_conds_file=None, load=False,\n",
    "                                                                        band_limits=None)\n",
    "    prox['proxy_Raupach2023_updated'] = up.apply_Raupach_proxy(dat=dat, results_file=proxy_results_file, \n",
    "                                                               extra_conds_file=proxy_conds_file,\n",
    "                                                               band_limits=[2000, None], load=False)\n",
    "    prox['proxy_Raupach2023_updated_noconds'] = up.apply_Raupach_proxy(dat=dat, results_file=proxy_results_file, \n",
    "                                                                       extra_conds_file=None,\n",
    "                                                                       band_limits=[2000, None], load=False)\n",
    "\n",
    "    prox.attrs['note'] = f'Proxies calculated for 3C epoch with ingredient {ing} detrended to match historical period.'\n",
    "    fh.write_output(dat=prox, file=outfile_ing)\n",
    "\n",
    "    del detrended, detrended_ing, prox"
   ]
  },
  {
   "cell_type": "code",
   "execution_count": 7,
   "id": "dc891a7c-2d8c-42c6-a9f4-8a9c6219c36f",
   "metadata": {},
   "outputs": [
    {
     "name": "stdout",
     "output_type": "stream",
     "text": [
      "CPU times: user 7.22 s, sys: 604 ms, total: 7.82 s\n",
      "Wall time: 17.8 s\n"
     ]
    }
   ],
   "source": []
  },
  {
   "cell_type": "code",
   "execution_count": 8,
   "id": "f005764c-b91e-421f-a7d5-3c680b2ad90f",
   "metadata": {},
   "outputs": [
    {
     "name": "stdout",
     "output_type": "stream",
     "text": [
      "Calculating proxies with detrended freezing_level.\n"
     ]
    }
   ],
   "source": [
    "\n",
    "    \n",
    "    break"
   ]
  },
  {
   "cell_type": "code",
   "execution_count": null,
   "id": "5bf3bee2-db1d-4dc4-a4e5-79c042ca15a3",
   "metadata": {},
   "outputs": [],
   "source": [
    "runs[['model', 'start_year', 'end_year', 'epoch_name']]"
   ]
  },
  {
   "cell_type": "markdown",
   "id": "3c84938e-cef0-4c32-b5ed-3d864c1bb3ae",
   "metadata": {},
   "source": [
    "## Settings"
   ]
  },
  {
   "cell_type": "code",
   "execution_count": null,
   "id": "beedd073-6752-4197-8555-21dac6984ccf",
   "metadata": {
    "tags": []
   },
   "outputs": [],
   "source": [
    "plt.show()                                        # Start the plotting engine.\n",
    "plt.rcParams['font.size'] = 16                    # Font size for plots.\n",
    "plt.rcParams['axes.formatter.useoffset'] = False  # Don't use offsets in plots.\n",
    "\n",
    "lats = {'asia': slice(0, 55),                    # Latitudes for selected world regions.\n",
    "        'oceania': slice(-48, 0),\n",
    "        'north_america': slice(12, 60),\n",
    "        'south_america': slice(-57, 12),\n",
    "        'europe': slice(25, 70),\n",
    "        'africa': slice(-37, 25)}\n",
    "\n",
    "lons = {'asia': slice(55, 147),                   # Longitudes for selected world regions.\n",
    "        'oceania': slice(98, 180),\n",
    "        'north_america': slice(-130, -50),\n",
    "        'south_america': slice(-100, -20),        \n",
    "        'europe': slice(-12, 55),\n",
    "        'africa': slice(-20, 55)}\n",
    "\n",
    "region_names = {'asia': 'Asia',\n",
    "                'oceania': 'Oceania',\n",
    "                'north_america': 'North America',\n",
    "                'south_america': 'South America',\n",
    "                'europe': 'Europe',\n",
    "                'africa': 'Africa'}"
   ]
  },
  {
   "cell_type": "markdown",
   "id": "d04af2d5-4299-4f20-9794-4e22a2a54f14",
   "metadata": {
    "tags": []
   },
   "source": [
    "## Model selection\n",
    "\n",
    "Find models matching criteria. The following criteria are used to select models:\n",
    "\n",
    "* Must contain variables:\n",
    "     - `tas`, temperature at surface\n",
    "     - `ta`, temperature by level\n",
    "     - `uas`, u wind at surface\n",
    "     - `ua`, u wind by level\n",
    "     - `vas`, v wind at surface\n",
    "     - `va`, v wind by level\n",
    "     - `huss`, specific humidity at surface\n",
    "     - `hus`, specific humidity by level\n",
    "     - `ps`, surface pressure\n",
    "* Must be available with a table ID of `3hr` or `6hrLev` (six hour minimum temporal resolution).\n",
    "* Must include both `historical` and `ssp585` experiments.\n",
    "* Must be available locally on NCI."
   ]
  },
  {
   "cell_type": "code",
   "execution_count": null,
   "id": "cf0f1ac7-d75e-43d0-9b08-43f8482d8434",
   "metadata": {
    "tags": []
   },
   "outputs": [],
   "source": [
    "models = fh.select_all_models()"
   ]
  },
  {
   "cell_type": "code",
   "execution_count": null,
   "id": "30e866e2-4e59-46b7-8f64-5bb06fad6fc5",
   "metadata": {},
   "outputs": [],
   "source": [
    "models"
   ]
  },
  {
   "cell_type": "markdown",
   "id": "d46f9e64-e81e-4b35-a76d-4e07f68b7763",
   "metadata": {},
   "source": [
    "Now that models are selected, define runs over 20 year periods. We filter out models that\n",
    "- do not cover the required times or\n",
    "- are not available on pressure levels."
   ]
  },
  {
   "cell_type": "code",
   "execution_count": null,
   "id": "81f57983-24a1-488a-8d2a-d665021d57a1",
   "metadata": {
    "tags": []
   },
   "outputs": [],
   "source": [
    "runs = fh.define_runs(models=models)"
   ]
  },
  {
   "cell_type": "code",
   "execution_count": null,
   "id": "ce65590d-09b5-4797-9364-0be382b9256a",
   "metadata": {},
   "outputs": [],
   "source": [
    "runs[['model', 'ensemble', 'exp', 'start_year', 'end_year']]"
   ]
  },
  {
   "cell_type": "markdown",
   "id": "2db073bd-6f00-4e93-9c3f-62c43fbb15b4",
   "metadata": {},
   "source": [
    "If `orog` is available for surface elevation it is used. Some models are missing it, however, and if missing, orography from CNRM-CM6-1/historical/r1i1p1f2 is interpolated to the same grid and used. This code produce the backup orography per model with missing orography. It will not regenerate already-generated files. Note that the use of xemsf gridding routines seems to crash dask processes run using MPI on gadi, so this regridding has to be done \"offline\" here."
   ]
  },
  {
   "cell_type": "code",
   "execution_count": null,
   "id": "74a23c8b-60e4-4a71-9b7a-20fc8493716f",
   "metadata": {},
   "outputs": [],
   "source": [
    "fh.make_backup_orography(runs)"
   ]
  },
  {
   "cell_type": "code",
   "execution_count": null,
   "id": "5f118ca5-4754-44fb-9320-91b095bf212e",
   "metadata": {},
   "outputs": [],
   "source": [
    "runs.to_csv('results/runs_list.csv', index=False)"
   ]
  },
  {
   "cell_type": "code",
   "execution_count": null,
   "id": "92823a7f-75cb-43e3-99b6-686498a65e99",
   "metadata": {},
   "outputs": [],
   "source": [
    "fh.plot_run_years(runs, file='results/supplementary/run_years.pdf')"
   ]
  },
  {
   "cell_type": "markdown",
   "id": "613650ab-8cb6-4190-a003-8b4e84bec161",
   "metadata": {},
   "source": [
    "Note that grid information is missing from some files for MRI, CMCC, and MPI. The missing information is (as of 19.05.2023):\n",
    "\n",
    "```\n",
    "MRI: grid-spec gn, orog version gn/v20190603\n",
    "CMCC: grid-spec gn, orog version gn/v20210126\n",
    "MPI: grid-spec gn, orog version gn/v20190710\n",
    "```"
   ]
  },
  {
   "cell_type": "markdown",
   "id": "e95fc8ea-83bd-4978-a853-364f6b1828d6",
   "metadata": {},
   "source": [
    "## Process CMIP6 data\n",
    "\n",
    "Scripts are generated for each model/experiment, under\n",
    "    \n",
    "```\n",
    "scripts/{model_name}/process_CMIP_{model_name}_{experiment}-1.sh\n",
    "scripts/{model_name}/process_CMIP_{model_name}_{experiment}-2.sh\n",
    "```\n",
    "\n",
    "The first processes the first 10 years, the second the last 10 years."
   ]
  },
  {
   "cell_type": "markdown",
   "id": "cb2a1c25-fa9b-41e4-a869-65459bce725a",
   "metadata": {},
   "source": [
    "Uncomment the following block to (re)create all scripts for generating convective indices for each run. "
   ]
  },
  {
   "cell_type": "code",
   "execution_count": null,
   "id": "9dffe1ec-05c2-46fb-ad3c-8ac4d5b87dd2",
   "metadata": {},
   "outputs": [],
   "source": [
    "# fh.make_run_scripts(runs=runs)"
   ]
  },
  {
   "cell_type": "markdown",
   "id": "1838c4a6-3164-4ba3-bb76-47c0defb92ce",
   "metadata": {},
   "source": [
    "Post-processing into annual/seasonal statistics is done by writing the epochs to process to a CSV file:"
   ]
  },
  {
   "cell_type": "code",
   "execution_count": null,
   "id": "22cc4df5-37b2-4804-a7a2-86b095c9149e",
   "metadata": {},
   "outputs": [],
   "source": [
    "# fh.make_postprocessing_scripts(runs=runs)"
   ]
  },
  {
   "cell_type": "markdown",
   "id": "72e05afd-be7f-4c28-b298-8befa1abe588",
   "metadata": {},
   "source": [
    "and then ensuring the job IDs match the number of epochs and running the script\n",
    "\n",
    "```\n",
    "post_process_CMIP.sh\n",
    "```\n",
    "\n",
    "in each run subdirectory. Then, run the script \n",
    "\n",
    "```\n",
    "calc_proxies_CMIP.sh\n",
    "calc_proxies_era5.sh\n",
    "```\n",
    "\n",
    "to add the proxy information."
   ]
  },
  {
   "cell_type": "markdown",
   "id": "6751e4f4-7142-433b-9140-8ed7a4867443",
   "metadata": {},
   "source": [
    "After processing, check that all files have the correct epoch."
   ]
  },
  {
   "cell_type": "code",
   "execution_count": null,
   "id": "b2164ec3-6363-4c8f-a48b-ea70d4720e5a",
   "metadata": {},
   "outputs": [],
   "source": [
    "fh.assert_epochs(runs=runs)"
   ]
  },
  {
   "cell_type": "markdown",
   "id": "ef9ce411-c3d9-4368-9ec5-ea7eb009a3b9",
   "metadata": {},
   "source": [
    "## Read processed data"
   ]
  },
  {
   "cell_type": "code",
   "execution_count": null,
   "id": "f87601c2-8de5-44dc-b18e-79558098a0ec",
   "metadata": {},
   "outputs": [],
   "source": [
    "dat, landmask = fh.read_processed_data(apply_landmask=False)"
   ]
  },
  {
   "cell_type": "markdown",
   "id": "c35ab2ed-9ed8-4b39-be61-bc4b89c9da0c",
   "metadata": {},
   "source": [
    "Add processed crop information."
   ]
  },
  {
   "cell_type": "code",
   "execution_count": null,
   "id": "5a4e6ddc-72f4-415b-957e-8ccdcb4bffd4",
   "metadata": {},
   "outputs": [],
   "source": [
    "%%time\n",
    "dat = xarray.merge([dat, fh.crop_hail_stats(dat=dat)])"
   ]
  },
  {
   "cell_type": "markdown",
   "id": "1d4f1629-eab4-43a5-a58c-caf04bafd1c5",
   "metadata": {},
   "source": [
    "Also read in ERA5 data."
   ]
  },
  {
   "cell_type": "code",
   "execution_count": null,
   "id": "e7c4d5bb-90cb-4c46-979e-549e7966ebbf",
   "metadata": {},
   "outputs": [],
   "source": [
    "era5 = fh.era5_climatology(landmask=None)"
   ]
  },
  {
   "cell_type": "markdown",
   "id": "ddad7edb-df24-4181-8d60-cea5666bfb15",
   "metadata": {},
   "source": [
    "## Global hail climatology for historical period"
   ]
  },
  {
   "cell_type": "code",
   "execution_count": null,
   "id": "8a1c8448-8073-48c9-b5de-61b0b1eb7374",
   "metadata": {},
   "outputs": [],
   "source": [
    "_ = fh.plot_map([era5.annual_hail_days.sel(proxy=f) for f in list(fh.proxy_dims)], \n",
    "                title=[f'{fh.proxy_dims[f]}' for f in list(fh.proxy_dims)], \n",
    "                grid=False, contour=True, disp_proj=ccrs.Robinson(), ncols=2, nrows=5, figsize=(12,15.6),\n",
    "                share_scale=True, scale_label='Mean annual hail-prone days',\n",
    "                file='results/supplementary/era5_all_proxies.pdf')"
   ]
  },
  {
   "cell_type": "markdown",
   "id": "3d072263-01dc-4370-b603-48af774a387e",
   "metadata": {},
   "source": [
    "We see from the above plot that some proxies such as that of Mohr 2013 and Kunz 2007 produce too many hail-prone days in the tropics because they were trained in a European context. On the other hand the threshold of 0.5 on SHIP produces too few hail-prone days globally. The previous and updated Raupach proxies are very similar so we use only the updated versions. We therefore subset the proxies considered in this study to exclude these proxies."
   ]
  },
  {
   "cell_type": "code",
   "execution_count": null,
   "id": "1148f07f-2127-4d00-af4c-e5ce0e1b4d4b",
   "metadata": {},
   "outputs": [],
   "source": [
    "proxies = ['Raupach2023_updated',\n",
    "           'Raupach2023_updated_noconds',\n",
    "           'Eccel2012',\n",
    "           'SHIP_0.1']\n",
    "\n",
    "era5 = era5.sel(proxy=proxies)\n",
    "dat = dat.sel(proxy=proxies)"
   ]
  },
  {
   "cell_type": "code",
   "execution_count": null,
   "id": "9d8b305d-c494-48ee-9ecc-10c757be86a0",
   "metadata": {},
   "outputs": [],
   "source": [
    "d = dat.sel(epoch='historical').mean('year_num')\n",
    "_ = fh.plot_map([d.annual_hail_days.sel(model=m, proxy=p) for m, p in itertools.product(dat.model.values, proxies)] + [era5.annual_hail_days.sel(proxy=p) for p in proxies],\n",
    "                title=[f'{m}, {fh.proxy_dims[p]}' for m, p in itertools.product(dat.model.values, proxies)] + [f'ERA5, {fh.proxy_dims[p]}' for p in proxies], \n",
    "                figsize=(12,10.5), disp_proj=ccrs.Robinson(), ncols=4, nrows=9, share_scale=True, share_axes=True, grid=False, contour=True, \n",
    "                col_labels=[fh.proxy_dims[f] for f in proxies], row_labels=list(dat.model.values) + ['ERA5'], \n",
    "                row_label_rotation=0, row_label_adjust=0.16, row_label_scale=1.28, row_label_offset=-0.056,\n",
    "                scale_label='Mean annual hail-prone days', file='results/supplementary/historical_by_model.pdf')\n",
    "del d"
   ]
  },
  {
   "cell_type": "markdown",
   "id": "390cf43e-f4e1-4375-9d4a-07ed262574cd",
   "metadata": {},
   "source": [
    "The next plot shows a comparison between the model mean climatology from CMIP6 and ERA5."
   ]
  },
  {
   "cell_type": "code",
   "execution_count": null,
   "id": "8427b606-cb0b-4598-950c-2628894fc63e",
   "metadata": {},
   "outputs": [],
   "source": [
    "cmip6_overall_mean = dat.sel(epoch='historical', proxy=proxies).annual_hail_days.mean(['model', 'proxy', 'year_num'])\n",
    "era5_overall_mean = era5.sel(proxy=proxies).annual_hail_days.mean('proxy')"
   ]
  },
  {
   "cell_type": "code",
   "execution_count": null,
   "id": "e5eb6ee0-715a-4033-b789-d0d4f631a7c4",
   "metadata": {},
   "outputs": [],
   "source": [
    "_ = fh.plot_map([cmip6_overall_mean, era5_overall_mean], title=['CMIP6', 'ERA5'], cbar_label='', nan_colour='white',\n",
    "                figsize=(11.8,10.8), ncols=1, nrows=2, share_scale=True, share_axes=True, grid=False,\n",
    "                disp_proj=ccrs.Robinson(), file='results/main/CMIP6_ERA5_comparison_historical.pdf', letter_labels=True)"
   ]
  },
  {
   "cell_type": "markdown",
   "id": "deb0abff-72a9-4f25-89fe-add51497c82f",
   "metadata": {},
   "source": [
    "Looking at the same map without the 'extra conditions' on the proxy, we see that the extra conditions are useful in reducing the number of hail-prone days at low and middle-high latitudes."
   ]
  },
  {
   "cell_type": "markdown",
   "id": "23398202-e53e-4db3-b007-38162c2f9e38",
   "metadata": {},
   "source": [
    "## Proxy anomalies for particular hail events"
   ]
  },
  {
   "cell_type": "markdown",
   "id": "6f6695a9-8cc3-43b1-aba2-fb05f71e4184",
   "metadata": {},
   "source": [
    "Here we look at anomalies in ERA5 proxy-derived monthly hail-prone days for June 2022 over Europe and February/March 2015 over India. In both these cases there were large hailstorm outbreaks."
   ]
  },
  {
   "cell_type": "code",
   "execution_count": null,
   "id": "5fc37b01-973f-4238-8c9f-5eb8df95a667",
   "metadata": {},
   "outputs": [],
   "source": [
    "anoms = fh.monthly_era5_anoms(era5=era5)"
   ]
  },
  {
   "cell_type": "code",
   "execution_count": null,
   "id": "36d9c4fc-ca97-4f04-9ec1-9ad4f9b64a1b",
   "metadata": {},
   "outputs": [],
   "source": [
    "fh.plot_era5_anomalies(anoms=anoms, year=2022, lats=slice(35,60), lons=slice(-12,30), \n",
    "                       file='results/supplementary/monthly_anoms_France_2022.pdf')"
   ]
  },
  {
   "cell_type": "code",
   "execution_count": null,
   "id": "328859a4-24da-4060-a5da-2ed927c6d04a",
   "metadata": {},
   "outputs": [],
   "source": [
    "fh.plot_era5_anomalies(anoms=anoms, year=2015, lats=slice(0,40), lons=slice(55,100), figsize=(12,7), ncols=4, nrows=3,\n",
    "                       file='results/supplementary/monthly_anoms_India_2015.pdf')"
   ]
  },
  {
   "cell_type": "code",
   "execution_count": null,
   "id": "27c84d3f-b16e-4003-b965-7a11facb07f8",
   "metadata": {},
   "outputs": [],
   "source": [
    "_ = fh.plot_map([anoms.sel(year=2015, month=3, lat=slice(0,45), lon=slice(55,100)).monthly_hail_days,\n",
    "                 anoms.sel(year=2022, month=6, lat=slice(25,70), lon=slice(-15,30)).monthly_hail_days], \n",
    "                title=['February 2015', 'June 2022'], ncols=2, cmap='RdBu_r', divergent=True, share_scale=True,\n",
    "                wspace=0.17, figsize=(12,5), letter_labels=True, nan_colour='white',\n",
    "                file='results/main/case_anomalies.pdf')"
   ]
  },
  {
   "cell_type": "markdown",
   "id": "e0ecaf8f-117e-4bff-b5b9-3ec0519aab3e",
   "metadata": {},
   "source": [
    "## Differences between epochs"
   ]
  },
  {
   "cell_type": "markdown",
   "id": "f8d1b7cc-2906-4d0b-95df-27a4d581fee2",
   "metadata": {},
   "source": [
    "Load calculated differences (code below takes ~1h40 to calculate from scratch). "
   ]
  },
  {
   "cell_type": "code",
   "execution_count": null,
   "id": "65d83618-a5fb-4c44-9a32-6a423b20dec3",
   "metadata": {},
   "outputs": [],
   "source": [
    "analysis_variables = ['annual_hail_days', 'seasonal_hail_days', \n",
    "                      'annual_mean_mixed_100_cape', 'annual_extreme_mixed_100_cape',\n",
    "                      'annual_mean_shear_magnitude', 'annual_extreme_shear_magnitude',\n",
    "                      'annual_mean_mixed_100_cin', 'annual_extreme_mixed_100_cin',\n",
    "                      'annual_mean_mixed_100_lifted_index', 'annual_extreme_mixed_100_lifted_index',\n",
    "                      'annual_mean_lapse_rate_700_500', 'annual_extreme_lapse_rate_700_500',\n",
    "                      'annual_mean_temp_500', 'annual_extreme_temp_500',\n",
    "                      'annual_mean_melting_level', 'crop_hail_prone_proportion']\n",
    "assert [x in list(dat.keys()) for x in analysis_variables], 'Analysis variable missing from dat'"
   ]
  },
  {
   "cell_type": "code",
   "execution_count": null,
   "id": "0d0b6772-40e4-4843-a8f1-df46bdaa588d",
   "metadata": {},
   "outputs": [],
   "source": [
    "%%time\n",
    "epoch_diffs = fh.epoch_differences(dat=dat, variables=analysis_variables)\n",
    "assert np.all([f'{x}_mean_diff' in epoch_diffs.data_vars for x in analysis_variables]), 'Variable missing.'"
   ]
  },
  {
   "cell_type": "markdown",
   "id": "98a65b2e-d36d-4cf0-8c68-899ac83ebe83",
   "metadata": {},
   "source": [
    "Calculate multi-model, multi-proxy differences for plotting."
   ]
  },
  {
   "cell_type": "code",
   "execution_count": null,
   "id": "da411637-6443-4bcf-8042-049628dcb293",
   "metadata": {},
   "outputs": [],
   "source": [
    "mm_diffs_abs, mm_diffs_rel, mm_sig, mm_reference = fh.multi_model_mean_diffs(dat=epoch_diffs, variables=analysis_variables)"
   ]
  },
  {
   "cell_type": "markdown",
   "id": "e5800d80-bd7c-4b41-9fe8-1514ee07e6fe",
   "metadata": {},
   "source": [
    "### Differences in annual hail-prone days, by model and proxy\n",
    "\n",
    "First for 2C:"
   ]
  },
  {
   "cell_type": "code",
   "execution_count": null,
   "id": "6925eac5-832a-4af6-b954-5abe12f85a43",
   "metadata": {},
   "outputs": [],
   "source": [
    "fh.plot_diffs_for_epoch(diffs=epoch_diffs, epoch='2C', file='results/supplementary/hail_diffs_2C.pdf')"
   ]
  },
  {
   "cell_type": "markdown",
   "id": "9b719899-d7b9-4662-b558-8b55d75b4221",
   "metadata": {},
   "source": [
    "And for 3C:"
   ]
  },
  {
   "cell_type": "code",
   "execution_count": null,
   "id": "294a784f-e29d-4c0e-8075-9d34fde9c96b",
   "metadata": {},
   "outputs": [],
   "source": [
    "fh.plot_diffs_for_epoch(diffs=epoch_diffs, epoch='3C', file='results/supplementary/hail_diffs_3C.pdf')"
   ]
  },
  {
   "cell_type": "markdown",
   "id": "fb899976-5ff6-47a6-bb7a-1bf32d1e3ae4",
   "metadata": {},
   "source": [
    "### Multi-model, multi-proxy mean differences by epoch"
   ]
  },
  {
   "cell_type": "code",
   "execution_count": null,
   "id": "32d6627d-839f-496d-8107-30b1bf58d0c3",
   "metadata": {},
   "outputs": [],
   "source": [
    "_ = fh.plot_map([mm_diffs_abs.annual_hail_days.sel(epoch=e) for e in ['2C', '3C']], nrows=2,\n",
    "                stippling=[mm_sig.annual_hail_days.sel(epoch=e) for e in ['2C', '3C']], share_scale=True,\n",
    "                title=['2$^{\\circ}$C', '3$^{\\circ}$C'], cmap='RdBu_r', divergent=True, letter_labels=True,\n",
    "                hspace=0.08, figsize=(12,10), nan_colour='white', disp_proj=ccrs.Robinson(), grid=False,\n",
    "                file='results/main/change_annual_hail_days_abs.pdf')"
   ]
  },
  {
   "cell_type": "code",
   "execution_count": null,
   "id": "9cb1c889-5a8a-43c4-8b49-6bf65b3409f1",
   "metadata": {},
   "outputs": [],
   "source": [
    "titles = {'asia': ['a', 'g'],        \n",
    "          'oceania': ['b', 'h'], \n",
    "          'north_america': ['c', 'i'], \n",
    "          'south_america': ['a', 'g'],\n",
    "          'europe': ['b', 'h'],\n",
    "          'africa': ['c', 'i']}\n",
    "\n",
    "title_pos = {'asia': 'lower',\n",
    "             'oceania': 'lower',\n",
    "             'north_america': 'lower',\n",
    "             'south_america': 'lower',\n",
    "             'europe': 'upper',\n",
    "             'africa': 'lower'}\n",
    "\n",
    "lims = {'asia': [[-100, 100], 'max'],\n",
    "        'oceania': [None, 'neither'],\n",
    "        'north_america': [None, 'neither'],\n",
    "        'south_america': [None, 'neither'],\n",
    "        'europe': [None, 'neither'],\n",
    "        'africa': [None, 'neither']}\n",
    "\n",
    "for i, region in enumerate(lats.keys()):\n",
    "    d = mm_diffs_rel.sel(lat=lats[region], lon=lons[region]).where(landmask)\n",
    "    s = mm_sig.sel(lat=lats[region], lon=lons[region]).where(landmask)\n",
    "\n",
    "    _ = fh.plot_map([d.annual_hail_days.sel(epoch=e) for e in ['2C', '3C']], ncols=2,\n",
    "                    stippling=[s.annual_hail_days.sel(epoch=e) for e in ['2C', '3C']], \n",
    "                    share_scale=True, cmap='RdBu_r', divergent=True, title=titles[region],\n",
    "                    share_axes=True, wspace=0.03, figsize=(10.8,4), nan_colour='white',\n",
    "                    title_inset=True, title_inset_pos=title_pos[region], num_ticks=4,\n",
    "                    colour_scale=lims[region][0], cbar_extend=lims[region][1],\n",
    "                    file=f'results/main/regional_change_{region}.pdf')"
   ]
  },
  {
   "cell_type": "markdown",
   "id": "224bd08a-33e2-43d9-ad3e-77d348e55573",
   "metadata": {},
   "source": [
    "Differences by season and epoch:"
   ]
  },
  {
   "cell_type": "code",
   "execution_count": null,
   "id": "1c7e13ce-7f48-475d-8ba9-f67d5eb8ef8a",
   "metadata": {},
   "outputs": [],
   "source": [
    "_ = fh.plot_map([mm_diffs_abs.seasonal_hail_days.sel(epoch=e, season=s) for s, e in itertools.product(dat.season.values, ['2C', '3C'])],\n",
    "                stippling=[mm_sig.seasonal_hail_days.sel(epoch=e, season=s) for s, e in itertools.product(dat.season.values, ['2C', '3C'])],\n",
    "                disp_proj=ccrs.Robinson(), grid=False, cmap='RdBu_r', divergent=True, share_scale=True, figsize=[11.2,10.3], \n",
    "                hspace=0.05, wspace=0.03, ncols=2, nrows=4, col_labels=['2 $^{\\circ{}}$C', '3 $^{\\circ{}}$C'], \n",
    "                row_labels=list(dat.season.values), row_label_adjust=0.04, scale_label='$\\Delta$ seasonal hail-prone days',\n",
    "                file='results/supplementary/hail_changes_by_season.pdf', nan_colour='white')"
   ]
  },
  {
   "cell_type": "markdown",
   "id": "d98b2c05-c4ef-4644-aca6-b8346c7ac1b0",
   "metadata": {},
   "source": [
    "## Differences in ingredients"
   ]
  },
  {
   "cell_type": "code",
   "execution_count": null,
   "id": "1f518e68-e00a-4885-950c-8ea966d12e55",
   "metadata": {},
   "outputs": [],
   "source": [
    "variables = {'annual_extreme_mixed_100_cape': ['99% CAPE', 'cape'],\n",
    "             'annual_extreme_shear_magnitude': ['99% S06', 'shear'],\n",
    "             'annual_mean_mixed_100_cin': ['Mean CIN', 'cin'],\n",
    "             'annual_extreme_mixed_100_lifted_index': ['1% LI', 'lifted_index'],\n",
    "             'annual_mean_melting_level': ['Mean MLH', 'mlh'],\n",
    "             'annual_mean_temp_500': ['Mean $T_{500}$', 'temp'],\n",
    "             'annual_mean_lapse_rate_700_500': ['Mean LR', 'lapse_rate']}\n",
    "\n",
    "units = {'annual_extreme_mixed_100_cape': 'J kg$^{-1}$',\n",
    "         'annual_extreme_shear_magnitude': 'm s$^{-1}$',\n",
    "         'annual_mean_mixed_100_cin': 'J kg$^{-1}$',\n",
    "         'annual_extreme_mixed_100_lifted_index': 'K',\n",
    "         'annual_mean_melting_level': 'm',\n",
    "         'annual_mean_temp_500': 'K',\n",
    "         'annual_mean_lapse_rate_700_500': 'K km$^{-1}$'}\n",
    "\n",
    "ranges = {'annual_extreme_mixed_100_cape': [None, 'neither'],\n",
    "          'annual_extreme_shear_magnitude': [None, 'neither'],\n",
    "          'annual_mean_mixed_100_cin': [None, 'neither'],\n",
    "          'annual_extreme_mixed_100_lifted_index': [None, 'neither'],\n",
    "          'annual_mean_melting_level': [None, 'neither'],\n",
    "          'annual_mean_temp_500': [None, 'neither'],\n",
    "          'annual_mean_lapse_rate_700_500': [[-0.5, 0.5], 'both']}\n",
    "\n",
    "\n",
    "for i, v in enumerate(variables):\n",
    "    \n",
    "    #d = mm_diffs_abs.sel(lat=lats[region], lon=lons[region]).where(landmask)\n",
    "    #s = mm_sig.sel(lat=lats[region], lon=lons[region]).where(landmask)\n",
    "    \n",
    "    #_ = fh.plot_map([d[v].sel(epoch=e) for e in ['2C', '3C']], \n",
    "    #                stippling=[s[v].sel(epoch=e) for e in ['2C', '3C']],\n",
    "    #                ncols=2, nrows=1, grid=False, cmap='RdBu_r', divergent=True, #disp_proj=ccrs.Robinson(),\n",
    "    #                figsize=(10.8,2.6), col_labels=['2 $^{\\circ{}}$C', '3 $^{\\circ{}}$C'] if i == 0 or i == 4 else [], \n",
    "    #                wspace=0.02, hspace=0.06, row_labels=[variables[v][0]], scale_label=units[v], row_label_offset=0.75, \n",
    "    #                row_label_adjust=0.03, share_scale=True, colour_scale=ranges[v][0], cbar_extend=ranges[v][1])\n",
    "    \n",
    "    region = 'europe'\n",
    "    _ = fh.plot_map([mm_diffs_abs[v].sel(epoch=e, lat=lats[region], lon=lons[region]) for e in ['2C', '3C']], \n",
    "                    stippling=[mm_sig[v].sel(epoch=e,lat=lats[region], lon=lons[region]) for e in ['2C', '3C']],\n",
    "                    ncols=2, nrows=1, grid=False, cmap='RdBu_r', divergent=True, #disp_proj=ccrs.Robinson(),\n",
    "                    figsize=(10.8,2.6), col_labels=['2 $^{\\circ{}}$C', '3 $^{\\circ{}}$C'] if i == 0 or i == 4 else [], \n",
    "                    wspace=0.02, hspace=0.06, row_labels=[variables[v][0]], scale_label=units[v], row_label_offset=0.75, \n",
    "                    row_label_adjust=0.03, share_scale=True, colour_scale=ranges[v][0], cbar_extend=ranges[v][1],\n",
    "                    file=f'results/supplementary/ingredients_changes_{variables[v][1]}.pdf')"
   ]
  },
  {
   "cell_type": "markdown",
   "id": "e0b4e0f0-b63d-4867-a291-9156d2001168",
   "metadata": {},
   "source": [
    "## Hail risk in crop growing periods"
   ]
  },
  {
   "cell_type": "code",
   "execution_count": null,
   "id": "43fc9e9a-469e-4caa-a226-55d0a6b8aefd",
   "metadata": {},
   "outputs": [],
   "source": [
    "cmip6_crop_mean = dat.crop_hail_prone_proportion.mean('year_num').mean(['model', 'proxy']).sel(epoch='historical').load()"
   ]
  },
  {
   "cell_type": "code",
   "execution_count": null,
   "id": "8a469fcd-35b3-4280-9054-97cfe09e3815",
   "metadata": {},
   "outputs": [],
   "source": [
    "mean_prop = cmip6_crop_mean.mean(['lat', 'lon']).to_dataframe().reset_index()\n",
    "mean_prop = mean_prop.sort_values('crop_hail_prone_proportion', ascending=False).reset_index(drop=True)"
   ]
  },
  {
   "cell_type": "markdown",
   "id": "5bc4b1ed-503a-45f5-824a-19ebdd7fbeac",
   "metadata": {},
   "source": [
    "The following maps show the proportion of the growing season that is hail prone, per crop."
   ]
  },
  {
   "cell_type": "code",
   "execution_count": null,
   "id": "47ce4442-4dd7-4509-a167-81f8af187d2d",
   "metadata": {},
   "outputs": [],
   "source": [
    "lat_range = cmip6_crop_mean.max(['lon', 'crop']).dropna('lat').lat.values\n",
    "lat_range = slice(lat_range.min()-1, lat_range.max()+1)\n",
    "lon_range = cmip6_crop_mean.max(['lat', 'crop']).dropna('lon').lon.values\n",
    "lon_range = slice(lon_range.min()-1, lon_range.max()+1)"
   ]
  },
  {
   "cell_type": "code",
   "execution_count": null,
   "id": "5c0233bf-c0f0-4dd9-a1d9-d6c221ba2ebe",
   "metadata": {},
   "outputs": [],
   "source": [
    "_ = fh.plot_map([cmip6_crop_mean.sel(crop=c, lat=lat_range, lon=lon_range) for c in mean_prop.crop],\n",
    "                title=[f'{x.crop} ({np.round(x.crop_hail_prone_proportion, 2)})' for i, x in mean_prop.iterrows()], \n",
    "                figsize=(12,14), nan_colour='white', nrows=9, ncols=3, share_scale=True, share_axes=True, grid=False, \n",
    "                scale_label='Hail-prone proportion of crop-growing period',\n",
    "                file='results/supplementary/historical_crop_propertion_hail_prone.pdf')"
   ]
  },
  {
   "cell_type": "markdown",
   "id": "28e9e2f6-45b5-4bba-962b-80580017c775",
   "metadata": {},
   "source": [
    "## Changes in proportion of hail-prone days during crop growing periods"
   ]
  },
  {
   "cell_type": "code",
   "execution_count": null,
   "id": "73ead748-08bb-411e-9fc7-c6ac43c6d251",
   "metadata": {},
   "outputs": [],
   "source": [
    "d = mm_diffs_abs.crop_hail_prone_proportion.sel(lat=lat_range, lon=lon_range)\n",
    "s = mm_sig.crop_hail_prone_proportion.sel(lat=lat_range, lon=lon_range)\n",
    "\n",
    "_ = fh.plot_map([d.sel(epoch='2C', crop=c) for c in mean_prop.crop],\n",
    "                stippling=[s.sel(epoch='2C', crop=c) for c in mean_prop.crop],\n",
    "                title=mean_prop.crop, cmap='RdBu_r', divergent=True,\n",
    "                figsize=(11.8,14), nan_colour='white', nrows=9, ncols=3, share_scale=True, share_axes=True, grid=False, \n",
    "                scale_label='$\\Delta$ hail-prone proportion of crop-growing period (2 $^{\\circ}$ C)',\n",
    "                file='results/supplementary/changes_crop_propertion_hail_prone_2C.pdf')\n",
    "\n",
    "_ = fh.plot_map([d.sel(epoch='3C', crop=c) for c in mean_prop.crop],\n",
    "                stippling=[s.sel(epoch='3C', crop=c) for c in mean_prop.crop],\n",
    "                title=mean_prop.crop, cmap='RdBu_r', divergent=True,\n",
    "                figsize=(11.7,14), nan_colour='white', nrows=9, ncols=3, share_scale=True, share_axes=True, grid=False, \n",
    "                scale_label='$\\Delta$ hail-prone proportion of crop-growing period (3 $^{\\circ}$ C)',\n",
    "                file='results/supplementary/changes_crop_propertion_hail_prone_3C.pdf')\n",
    "\n",
    "del d, s"
   ]
  },
  {
   "cell_type": "markdown",
   "id": "281f306c-12c6-4352-9913-ad28407c4c98",
   "metadata": {},
   "source": [
    "Now zooming in on changes in hail-prone regions of interest..."
   ]
  },
  {
   "cell_type": "code",
   "execution_count": null,
   "id": "c32caaaa-a606-4ce0-a4a5-489165c040dc",
   "metadata": {},
   "outputs": [],
   "source": [
    "figsizes = {'asia': (10.8, 12),\n",
    "            'oceania': (10.8, 10),\n",
    "            'north_america': (10.8, 12),\n",
    "            'south_america': (10.8, 11.4),\n",
    "            'europe': (10.8, 11),\n",
    "            'africa': (10.8, 9.2)}\n",
    "\n",
    "rows_cols = {'asia': (7, 4),\n",
    "             'oceania': (6, 4),\n",
    "             'north_america': (7, 4),\n",
    "             'south_america': (6, 5),\n",
    "             'europe': (6, 4),\n",
    "             'africa': (5, 5)}\n",
    "\n",
    "for region in lats.keys():\n",
    "    d = mm_diffs_rel.crop_hail_prone_proportion.sel(epoch='3C', lat=lats[region], lon=lons[region])\n",
    "    s = mm_sig.crop_hail_prone_proportion.sel(epoch='3C', lat=lats[region], lon=lons[region])\n",
    "\n",
    "    exclude_crops = list(s.crop.values[s.sum(['lat', 'lon']) == 0])    \n",
    "    crops = [c for c in mean_prop.crop if c not in exclude_crops]\n",
    "\n",
    "    colour_scale = [d.where(s == True).min(), d.where(s==True).max()]\n",
    "    min = d.where(s == True).min()\n",
    "    max = d.where(s==True).max()\n",
    "    norm = TwoSlopeNorm(vcenter=0, vmin=min, vmax=max)\n",
    "    extend_cbar = 'neither'\n",
    "    if min > d.min():\n",
    "        extend_cbar = 'min'\n",
    "    if max < d.max():\n",
    "        extend_cbar = 'max'\n",
    "    if min > d.min() and max < d.max():\n",
    "        extend_cbar = 'both'\n",
    "        \n",
    "    _ = fh.plot_map([d.sel(crop=c) for c in crops], \n",
    "                    stippling=[s.sel(crop=c) for c in crops],\n",
    "                    nrows=rows_cols[region][0], ncols=rows_cols[region][1], figsize=figsizes[region], \n",
    "                    cmap='RdBu_r', share_scale=True, share_axes=True, colour_scale=colour_scale,\n",
    "                    title=[crop.replace(\" / \", \"/\") for crop in crops], num_ticks=2, norm=norm, cbar_extend=extend_cbar,\n",
    "                    scale_label='$\\Delta$ hail-prone proportion\\nof growing season (3 $^{\\circ} C$) [%]', nan_colour='white',\n",
    "                    file=f'results/supplementary/crop_changes_{region}.pdf')"
   ]
  },
  {
   "cell_type": "code",
   "execution_count": null,
   "id": "e84c5190-8119-45dd-afd3-a665538ae364",
   "metadata": {},
   "outputs": [],
   "source": [
    "fh.plot_regional_crop_changes(diffs=mm_diffs_rel, sig=mm_sig, lats=lats, lons=lons, region_names=region_names, \n",
    "                              file='results/main/crop_changes.pdf', figsize=(13.6,13.3))"
   ]
  },
  {
   "cell_type": "code",
   "execution_count": null,
   "id": "a6eca4c9-ba47-4145-8194-2f8d16e8aa43",
   "metadata": {},
   "outputs": [],
   "source": [
    "fh.plot_crop_lines(dat=dat, lat=-43.5, lon=171.5, crops=['Wheat', 'Potatoes', 'Fodder grasses'])"
   ]
  },
  {
   "cell_type": "code",
   "execution_count": null,
   "id": "d7184e7d-580b-4fd1-b8a9-05b50e953289",
   "metadata": {},
   "outputs": [],
   "source": [
    "fh.plot_crop_lines(dat=dat, lat=-33.5, lon=149.5, crops=['Barley', 'Citrus', 'Fodder grasses'])"
   ]
  },
  {
   "cell_type": "code",
   "execution_count": null,
   "id": "da0627ac-f1e9-4d8c-b6fe-fd8a984912fd",
   "metadata": {},
   "outputs": [],
   "source": [
    "fh.plot_crop_lines(dat=dat, lat=5.5, lon=23.5, crops=['Potatoes', 'Maize', 'Groundnuts / Peanuts'])"
   ]
  },
  {
   "cell_type": "code",
   "execution_count": null,
   "id": "ea054821-553d-40aa-85c8-a8bb8c92246b",
   "metadata": {},
   "outputs": [],
   "source": [
    "#fh.plot_crop_lines(dat=dat, lat=46.5, lon=6.5, crops=['Potatoes', 'Rye', 'Wheat'])\n",
    "fh.plot_crop_lines(dat=dat, lat=46.5, lon=10, crops=['Potatoes', 'Rye', 'Wheat'])"
   ]
  },
  {
   "cell_type": "code",
   "execution_count": null,
   "id": "7358faba-3428-4506-a7cf-e5c42dcdf69a",
   "metadata": {},
   "outputs": [],
   "source": [
    "fh.plot_crop_lines(dat=dat, lat=42.5, lon=121.5, crops=['Potatoes', 'Wheat', 'Barley'])"
   ]
  },
  {
   "cell_type": "code",
   "execution_count": null,
   "id": "9cc5cd45-c118-4359-81de-89f6f46a33fd",
   "metadata": {},
   "outputs": [],
   "source": [
    "fh.plot_crop_lines(dat=dat, lat=48.5, lon=-100.5, crops=['Maize', 'Rye', 'Barley'])"
   ]
  },
  {
   "cell_type": "code",
   "execution_count": null,
   "id": "a24c8ea4-8b54-4d1c-955f-ae12d2d4d90b",
   "metadata": {},
   "outputs": [],
   "source": []
  }
 ],
 "metadata": {
  "kernelspec": {
   "display_name": "Python [conda env:analysis3]",
   "language": "python",
   "name": "conda-env-analysis3-py"
  },
  "language_info": {
   "codemirror_mode": {
    "name": "ipython",
    "version": 3
   },
   "file_extension": ".py",
   "mimetype": "text/x-python",
   "name": "python",
   "nbconvert_exporter": "python",
   "pygments_lexer": "ipython3",
   "version": "3.10.13"
  }
 },
 "nbformat": 4,
 "nbformat_minor": 5
}
