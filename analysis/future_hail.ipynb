{
 "cells": [
  {
   "cell_type": "markdown",
   "id": "f7b6877c-161b-49bc-8129-aee584237ddf",
   "metadata": {
    "tags": []
   },
   "source": [
    "# Future projections of global hail hazard"
   ]
  },
  {
   "cell_type": "code",
   "execution_count": 1,
   "id": "4e408329-5385-455d-84ec-5557b59cc5ef",
   "metadata": {
    "tags": []
   },
   "outputs": [
    {
     "name": "stdout",
     "output_type": "stream",
     "text": [
      "/home/561/tr2908/git/future_hail_global\n"
     ]
    }
   ],
   "source": [
    "%cd git/future_hail_global/"
   ]
  },
  {
   "cell_type": "code",
   "execution_count": 2,
   "id": "40060e31-7116-4308-a47a-95e86701ec8d",
   "metadata": {
    "tags": []
   },
   "outputs": [],
   "source": [
    "import sys\n",
    "sys.path.append('../xarray_parcel/')\n",
    "sys.path.append('../aus400_hail/')\n",
    "sys.path.append('../warming_levels/')\n",
    "                \n",
    "import dask\n",
    "import xarray\n",
    "import warnings\n",
    "import numpy as np\n",
    "import pandas as pd\n",
    "import seaborn as sns\n",
    "from clef.code import *\n",
    "import cartopy.crs as ccrs\n",
    "from importlib import reload\n",
    "import modules.fut_hail as fh\n",
    "import matplotlib.pyplot as plt\n",
    "import modules.warming_levels as wl\n",
    "from dask.distributed import Client, Scheduler, LocalCluster"
   ]
  },
  {
   "cell_type": "markdown",
   "id": "4486d0cb-c81b-4d4c-b235-57f2783ca167",
   "metadata": {},
   "source": [
    "## Setup"
   ]
  },
  {
   "cell_type": "code",
   "execution_count": 3,
   "id": "29166fc0-79ad-4e31-9232-6991abfd9a0d",
   "metadata": {
    "tags": []
   },
   "outputs": [
    {
     "name": "stdout",
     "output_type": "stream",
     "text": [
      "<Client: 'tcp://127.0.0.1:40249' processes=7 threads=28, memory=125.20 GiB>\n"
     ]
    }
   ],
   "source": [
    "_ = dask.config.set(**{'array.slicing.split_large_chunks': False})\n",
    "client = Client()\n",
    "print(client)"
   ]
  },
  {
   "cell_type": "markdown",
   "id": "3c84938e-cef0-4c32-b5ed-3d864c1bb3ae",
   "metadata": {},
   "source": [
    "## Settings"
   ]
  },
  {
   "cell_type": "code",
   "execution_count": 4,
   "id": "beedd073-6752-4197-8555-21dac6984ccf",
   "metadata": {
    "tags": []
   },
   "outputs": [],
   "source": [
    "plt.show()                                        # Start the plotting engine.\n",
    "plt.rcParams['font.size'] = 13                    # Font size for plots.\n",
    "plt.rcParams['axes.formatter.useoffset'] = False  # Don't use offsets in plots."
   ]
  },
  {
   "cell_type": "markdown",
   "id": "d04af2d5-4299-4f20-9794-4e22a2a54f14",
   "metadata": {
    "tags": []
   },
   "source": [
    "## Model selection\n",
    "\n",
    "Find models matching criteria. The following criteria are used to select models:\n",
    "\n",
    "* Must contain variables:\n",
    "     - `tas`, temperature at surface\n",
    "     - `ta`, temperature by level\n",
    "     - `uas`, u wind at surface\n",
    "     - `ua`, u wind by level\n",
    "     - `vas`, v wind at surface\n",
    "     - `va`, v wind by level\n",
    "     - `huss`, specific humidity at surface\n",
    "     - `hus`, specific humidity by level\n",
    "     - `ps`, surface pressure\n",
    "* Must be available with a table ID of `3hr` or `6hrLev` (six hour minimum temporal resolution).\n",
    "* Must include both `historical` and `ssp585` experiments.\n",
    "* Must be available locally on NCI."
   ]
  },
  {
   "cell_type": "code",
   "execution_count": 5,
   "id": "cf0f1ac7-d75e-43d0-9b08-43f8482d8434",
   "metadata": {
    "tags": []
   },
   "outputs": [],
   "source": [
    "models = fh.select_all_models()"
   ]
  },
  {
   "cell_type": "code",
   "execution_count": 6,
   "id": "30e866e2-4e59-46b7-8f64-5bb06fad6fc5",
   "metadata": {},
   "outputs": [
    {
     "data": {
      "text/html": [
       "<div>\n",
       "<style scoped>\n",
       "    .dataframe tbody tr th:only-of-type {\n",
       "        vertical-align: middle;\n",
       "    }\n",
       "\n",
       "    .dataframe tbody tr th {\n",
       "        vertical-align: top;\n",
       "    }\n",
       "\n",
       "    .dataframe thead th {\n",
       "        text-align: right;\n",
       "    }\n",
       "</style>\n",
       "<table border=\"1\" class=\"dataframe\">\n",
       "  <thead>\n",
       "    <tr style=\"text-align: right;\">\n",
       "      <th></th>\n",
       "      <th>model</th>\n",
       "      <th>ensemble</th>\n",
       "      <th>exp</th>\n",
       "      <th>institution_id</th>\n",
       "      <th>desc</th>\n",
       "      <th>CMIP6_dir</th>\n",
       "    </tr>\n",
       "  </thead>\n",
       "  <tbody>\n",
       "    <tr>\n",
       "      <th>0</th>\n",
       "      <td>BCC-CSM2-MR</td>\n",
       "      <td>r1i1p1f1</td>\n",
       "      <td>historical</td>\n",
       "      <td>BCC</td>\n",
       "      <td>CMIP6.CMIP.BCC.BCC-CSM2-MR.historical.r1i1p1f1</td>\n",
       "      <td>/g/data/oi10/replicas</td>\n",
       "    </tr>\n",
       "    <tr>\n",
       "      <th>1</th>\n",
       "      <td>BCC-CSM2-MR</td>\n",
       "      <td>r1i1p1f1</td>\n",
       "      <td>ssp585</td>\n",
       "      <td>BCC</td>\n",
       "      <td>CMIP6.ScenarioMIP.BCC.BCC-CSM2-MR.ssp585.r1i1p1f1</td>\n",
       "      <td>/g/data/oi10/replicas</td>\n",
       "    </tr>\n",
       "    <tr>\n",
       "      <th>2</th>\n",
       "      <td>CMCC-CM2-SR5</td>\n",
       "      <td>r1i1p1f1</td>\n",
       "      <td>historical</td>\n",
       "      <td>CMCC</td>\n",
       "      <td>CMIP6.CMIP.CMCC.CMCC-CM2-SR5.historical.r1i1p1f1</td>\n",
       "      <td>/g/data/oi10/replicas</td>\n",
       "    </tr>\n",
       "    <tr>\n",
       "      <th>3</th>\n",
       "      <td>CMCC-CM2-SR5</td>\n",
       "      <td>r1i1p1f1</td>\n",
       "      <td>ssp585</td>\n",
       "      <td>CMCC</td>\n",
       "      <td>CMIP6.ScenarioMIP.CMCC.CMCC-CM2-SR5.ssp585.r1i...</td>\n",
       "      <td>/g/data/oi10/replicas</td>\n",
       "    </tr>\n",
       "    <tr>\n",
       "      <th>4</th>\n",
       "      <td>CMCC-ESM2</td>\n",
       "      <td>r1i1p1f1</td>\n",
       "      <td>historical</td>\n",
       "      <td>CMCC</td>\n",
       "      <td>CMIP6.CMIP.CMCC.CMCC-ESM2.historical.r1i1p1f1</td>\n",
       "      <td>/g/data/oi10/replicas</td>\n",
       "    </tr>\n",
       "    <tr>\n",
       "      <th>5</th>\n",
       "      <td>CMCC-ESM2</td>\n",
       "      <td>r1i1p1f1</td>\n",
       "      <td>ssp585</td>\n",
       "      <td>CMCC</td>\n",
       "      <td>CMIP6.ScenarioMIP.CMCC.CMCC-ESM2.ssp585.r1i1p1f1</td>\n",
       "      <td>/g/data/oi10/replicas</td>\n",
       "    </tr>\n",
       "    <tr>\n",
       "      <th>6</th>\n",
       "      <td>CNRM-CM6-1</td>\n",
       "      <td>r1i1p1f2</td>\n",
       "      <td>historical</td>\n",
       "      <td>CNRM-CERFACS</td>\n",
       "      <td>CMIP6.CMIP.CNRM-CERFACS.CNRM-CM6-1.historical....</td>\n",
       "      <td>/g/data/oi10/replicas</td>\n",
       "    </tr>\n",
       "    <tr>\n",
       "      <th>7</th>\n",
       "      <td>CNRM-CM6-1</td>\n",
       "      <td>r1i1p1f2</td>\n",
       "      <td>ssp585</td>\n",
       "      <td>CNRM-CERFACS</td>\n",
       "      <td>CMIP6.ScenarioMIP.CNRM-CERFACS.CNRM-CM6-1.ssp5...</td>\n",
       "      <td>/g/data/oi10/replicas</td>\n",
       "    </tr>\n",
       "    <tr>\n",
       "      <th>8</th>\n",
       "      <td>EC-Earth3</td>\n",
       "      <td>r1i1p1f1</td>\n",
       "      <td>historical</td>\n",
       "      <td>EC-Earth-Consortium</td>\n",
       "      <td>CMIP6.CMIP.EC-Earth-Consortium.EC-Earth3.histo...</td>\n",
       "      <td>/g/data/oi10/replicas</td>\n",
       "    </tr>\n",
       "    <tr>\n",
       "      <th>9</th>\n",
       "      <td>EC-Earth3</td>\n",
       "      <td>r1i1p1f1</td>\n",
       "      <td>ssp585</td>\n",
       "      <td>EC-Earth-Consortium</td>\n",
       "      <td>CMIP6.ScenarioMIP.EC-Earth-Consortium.EC-Earth...</td>\n",
       "      <td>/g/data/oi10/replicas</td>\n",
       "    </tr>\n",
       "    <tr>\n",
       "      <th>10</th>\n",
       "      <td>GISS-E2-1-G</td>\n",
       "      <td>r1i1p1f2</td>\n",
       "      <td>historical</td>\n",
       "      <td>NASA-GISS</td>\n",
       "      <td>CMIP6.CMIP.NASA-GISS.GISS-E2-1-G.historical.r1...</td>\n",
       "      <td>/g/data/oi10/replicas</td>\n",
       "    </tr>\n",
       "    <tr>\n",
       "      <th>11</th>\n",
       "      <td>GISS-E2-1-G</td>\n",
       "      <td>r1i1p1f2</td>\n",
       "      <td>ssp585</td>\n",
       "      <td>NASA-GISS</td>\n",
       "      <td>CMIP6.ScenarioMIP.NASA-GISS.GISS-E2-1-G.ssp585...</td>\n",
       "      <td>/g/data/oi10/replicas</td>\n",
       "    </tr>\n",
       "    <tr>\n",
       "      <th>12</th>\n",
       "      <td>MIROC6</td>\n",
       "      <td>r1i1p1f1</td>\n",
       "      <td>historical</td>\n",
       "      <td>MIROC</td>\n",
       "      <td>CMIP6.CMIP.MIROC.MIROC6.historical.r1i1p1f1</td>\n",
       "      <td>/g/data/oi10/replicas</td>\n",
       "    </tr>\n",
       "    <tr>\n",
       "      <th>13</th>\n",
       "      <td>MIROC6</td>\n",
       "      <td>r1i1p1f1</td>\n",
       "      <td>ssp585</td>\n",
       "      <td>MIROC</td>\n",
       "      <td>CMIP6.ScenarioMIP.MIROC.MIROC6.ssp585.r1i1p1f1</td>\n",
       "      <td>/g/data/oi10/replicas</td>\n",
       "    </tr>\n",
       "    <tr>\n",
       "      <th>14</th>\n",
       "      <td>MPI-ESM1-2-HR</td>\n",
       "      <td>r1i1p1f1</td>\n",
       "      <td>historical</td>\n",
       "      <td>MPI-M</td>\n",
       "      <td>CMIP6.CMIP.MPI-M.MPI-ESM1-2-HR.historical.r1i1...</td>\n",
       "      <td>/g/data/oi10/replicas</td>\n",
       "    </tr>\n",
       "    <tr>\n",
       "      <th>15</th>\n",
       "      <td>MPI-ESM1-2-HR</td>\n",
       "      <td>r1i1p1f1</td>\n",
       "      <td>ssp585</td>\n",
       "      <td>DKRZ</td>\n",
       "      <td>CMIP6.ScenarioMIP.DKRZ.MPI-ESM1-2-HR.ssp585.r1...</td>\n",
       "      <td>/g/data/oi10/replicas</td>\n",
       "    </tr>\n",
       "    <tr>\n",
       "      <th>16</th>\n",
       "      <td>MRI-ESM2-0</td>\n",
       "      <td>r1i1p1f1</td>\n",
       "      <td>historical</td>\n",
       "      <td>MRI</td>\n",
       "      <td>CMIP6.CMIP.MRI.MRI-ESM2-0.historical.r1i1p1f1</td>\n",
       "      <td>/g/data/oi10/replicas</td>\n",
       "    </tr>\n",
       "    <tr>\n",
       "      <th>17</th>\n",
       "      <td>MRI-ESM2-0</td>\n",
       "      <td>r1i1p1f1</td>\n",
       "      <td>ssp585</td>\n",
       "      <td>MRI</td>\n",
       "      <td>CMIP6.ScenarioMIP.MRI.MRI-ESM2-0.ssp585.r1i1p1f1</td>\n",
       "      <td>/g/data/oi10/replicas</td>\n",
       "    </tr>\n",
       "    <tr>\n",
       "      <th>18</th>\n",
       "      <td>ACCESS-CM2</td>\n",
       "      <td>r4i1p1f1</td>\n",
       "      <td>historical</td>\n",
       "      <td>CSIRO-ARCCSS</td>\n",
       "      <td>CMIP6.CMIP.CSIRO-ARCCSS.ACCESS-CM2.historical....</td>\n",
       "      <td>/g/data/fs38/publications</td>\n",
       "    </tr>\n",
       "    <tr>\n",
       "      <th>19</th>\n",
       "      <td>ACCESS-CM2</td>\n",
       "      <td>r4i1p1f1</td>\n",
       "      <td>ssp585</td>\n",
       "      <td>CSIRO-ARCCSS</td>\n",
       "      <td>CMIP6.CMIP.CSIRO-ARCCSS.ACCESS-CM2.ssp585.r4i1...</td>\n",
       "      <td>/g/data/fs38/publications</td>\n",
       "    </tr>\n",
       "    <tr>\n",
       "      <th>20</th>\n",
       "      <td>ACCESS-CM2</td>\n",
       "      <td>r5i1p1f1</td>\n",
       "      <td>historical</td>\n",
       "      <td>CSIRO-ARCCSS</td>\n",
       "      <td>CMIP6.CMIP.CSIRO-ARCCSS.ACCESS-CM2.historical....</td>\n",
       "      <td>/g/data/fs38/publications</td>\n",
       "    </tr>\n",
       "    <tr>\n",
       "      <th>21</th>\n",
       "      <td>ACCESS-CM2</td>\n",
       "      <td>r5i1p1f1</td>\n",
       "      <td>ssp585</td>\n",
       "      <td>CSIRO-ARCCSS</td>\n",
       "      <td>CMIP6.CMIP.CSIRO-ARCCSS.ACCESS-CM2.ssp585.r5i1...</td>\n",
       "      <td>/g/data/fs38/publications</td>\n",
       "    </tr>\n",
       "  </tbody>\n",
       "</table>\n",
       "</div>"
      ],
      "text/plain": [
       "            model  ensemble         exp       institution_id  \\\n",
       "0     BCC-CSM2-MR  r1i1p1f1  historical                  BCC   \n",
       "1     BCC-CSM2-MR  r1i1p1f1      ssp585                  BCC   \n",
       "2    CMCC-CM2-SR5  r1i1p1f1  historical                 CMCC   \n",
       "3    CMCC-CM2-SR5  r1i1p1f1      ssp585                 CMCC   \n",
       "4       CMCC-ESM2  r1i1p1f1  historical                 CMCC   \n",
       "5       CMCC-ESM2  r1i1p1f1      ssp585                 CMCC   \n",
       "6      CNRM-CM6-1  r1i1p1f2  historical         CNRM-CERFACS   \n",
       "7      CNRM-CM6-1  r1i1p1f2      ssp585         CNRM-CERFACS   \n",
       "8       EC-Earth3  r1i1p1f1  historical  EC-Earth-Consortium   \n",
       "9       EC-Earth3  r1i1p1f1      ssp585  EC-Earth-Consortium   \n",
       "10    GISS-E2-1-G  r1i1p1f2  historical            NASA-GISS   \n",
       "11    GISS-E2-1-G  r1i1p1f2      ssp585            NASA-GISS   \n",
       "12         MIROC6  r1i1p1f1  historical                MIROC   \n",
       "13         MIROC6  r1i1p1f1      ssp585                MIROC   \n",
       "14  MPI-ESM1-2-HR  r1i1p1f1  historical                MPI-M   \n",
       "15  MPI-ESM1-2-HR  r1i1p1f1      ssp585                 DKRZ   \n",
       "16     MRI-ESM2-0  r1i1p1f1  historical                  MRI   \n",
       "17     MRI-ESM2-0  r1i1p1f1      ssp585                  MRI   \n",
       "18     ACCESS-CM2  r4i1p1f1  historical         CSIRO-ARCCSS   \n",
       "19     ACCESS-CM2  r4i1p1f1      ssp585         CSIRO-ARCCSS   \n",
       "20     ACCESS-CM2  r5i1p1f1  historical         CSIRO-ARCCSS   \n",
       "21     ACCESS-CM2  r5i1p1f1      ssp585         CSIRO-ARCCSS   \n",
       "\n",
       "                                                 desc  \\\n",
       "0      CMIP6.CMIP.BCC.BCC-CSM2-MR.historical.r1i1p1f1   \n",
       "1   CMIP6.ScenarioMIP.BCC.BCC-CSM2-MR.ssp585.r1i1p1f1   \n",
       "2    CMIP6.CMIP.CMCC.CMCC-CM2-SR5.historical.r1i1p1f1   \n",
       "3   CMIP6.ScenarioMIP.CMCC.CMCC-CM2-SR5.ssp585.r1i...   \n",
       "4       CMIP6.CMIP.CMCC.CMCC-ESM2.historical.r1i1p1f1   \n",
       "5    CMIP6.ScenarioMIP.CMCC.CMCC-ESM2.ssp585.r1i1p1f1   \n",
       "6   CMIP6.CMIP.CNRM-CERFACS.CNRM-CM6-1.historical....   \n",
       "7   CMIP6.ScenarioMIP.CNRM-CERFACS.CNRM-CM6-1.ssp5...   \n",
       "8   CMIP6.CMIP.EC-Earth-Consortium.EC-Earth3.histo...   \n",
       "9   CMIP6.ScenarioMIP.EC-Earth-Consortium.EC-Earth...   \n",
       "10  CMIP6.CMIP.NASA-GISS.GISS-E2-1-G.historical.r1...   \n",
       "11  CMIP6.ScenarioMIP.NASA-GISS.GISS-E2-1-G.ssp585...   \n",
       "12        CMIP6.CMIP.MIROC.MIROC6.historical.r1i1p1f1   \n",
       "13     CMIP6.ScenarioMIP.MIROC.MIROC6.ssp585.r1i1p1f1   \n",
       "14  CMIP6.CMIP.MPI-M.MPI-ESM1-2-HR.historical.r1i1...   \n",
       "15  CMIP6.ScenarioMIP.DKRZ.MPI-ESM1-2-HR.ssp585.r1...   \n",
       "16      CMIP6.CMIP.MRI.MRI-ESM2-0.historical.r1i1p1f1   \n",
       "17   CMIP6.ScenarioMIP.MRI.MRI-ESM2-0.ssp585.r1i1p1f1   \n",
       "18  CMIP6.CMIP.CSIRO-ARCCSS.ACCESS-CM2.historical....   \n",
       "19  CMIP6.CMIP.CSIRO-ARCCSS.ACCESS-CM2.ssp585.r4i1...   \n",
       "20  CMIP6.CMIP.CSIRO-ARCCSS.ACCESS-CM2.historical....   \n",
       "21  CMIP6.CMIP.CSIRO-ARCCSS.ACCESS-CM2.ssp585.r5i1...   \n",
       "\n",
       "                    CMIP6_dir  \n",
       "0       /g/data/oi10/replicas  \n",
       "1       /g/data/oi10/replicas  \n",
       "2       /g/data/oi10/replicas  \n",
       "3       /g/data/oi10/replicas  \n",
       "4       /g/data/oi10/replicas  \n",
       "5       /g/data/oi10/replicas  \n",
       "6       /g/data/oi10/replicas  \n",
       "7       /g/data/oi10/replicas  \n",
       "8       /g/data/oi10/replicas  \n",
       "9       /g/data/oi10/replicas  \n",
       "10      /g/data/oi10/replicas  \n",
       "11      /g/data/oi10/replicas  \n",
       "12      /g/data/oi10/replicas  \n",
       "13      /g/data/oi10/replicas  \n",
       "14      /g/data/oi10/replicas  \n",
       "15      /g/data/oi10/replicas  \n",
       "16      /g/data/oi10/replicas  \n",
       "17      /g/data/oi10/replicas  \n",
       "18  /g/data/fs38/publications  \n",
       "19  /g/data/fs38/publications  \n",
       "20  /g/data/fs38/publications  \n",
       "21  /g/data/fs38/publications  "
      ]
     },
     "execution_count": 6,
     "metadata": {},
     "output_type": "execute_result"
    }
   ],
   "source": [
    "models"
   ]
  },
  {
   "cell_type": "markdown",
   "id": "d46f9e64-e81e-4b35-a76d-4e07f68b7763",
   "metadata": {},
   "source": [
    "Now that models are selected, define runs over 20 year periods. We filter out models that\n",
    "- do not cover the required times or\n",
    "- are not available on pressure levels."
   ]
  },
  {
   "cell_type": "code",
   "execution_count": 127,
   "id": "81f57983-24a1-488a-8d2a-d665021d57a1",
   "metadata": {
    "tags": []
   },
   "outputs": [
    {
     "name": "stdout",
     "output_type": "stream",
     "text": [
      "ACCESS-CM2 historical is not on pressure levels. Excluding ACCESS-CM2.\n",
      "BCC-CSM2-MR historical requires 1980-1999, but data for va covers only 2012-2014. Excluding BCC-CSM2-MR.\n"
     ]
    }
   ],
   "source": [
    "runs = fh.define_runs(models=models)"
   ]
  },
  {
   "cell_type": "code",
   "execution_count": 128,
   "id": "ce65590d-09b5-4797-9364-0be382b9256a",
   "metadata": {},
   "outputs": [
    {
     "data": {
      "text/html": [
       "<div>\n",
       "<style scoped>\n",
       "    .dataframe tbody tr th:only-of-type {\n",
       "        vertical-align: middle;\n",
       "    }\n",
       "\n",
       "    .dataframe tbody tr th {\n",
       "        vertical-align: top;\n",
       "    }\n",
       "\n",
       "    .dataframe thead th {\n",
       "        text-align: right;\n",
       "    }\n",
       "</style>\n",
       "<table border=\"1\" class=\"dataframe\">\n",
       "  <thead>\n",
       "    <tr style=\"text-align: right;\">\n",
       "      <th></th>\n",
       "      <th>model</th>\n",
       "      <th>ensemble</th>\n",
       "      <th>exp</th>\n",
       "      <th>start_year</th>\n",
       "      <th>end_year</th>\n",
       "    </tr>\n",
       "  </thead>\n",
       "  <tbody>\n",
       "    <tr>\n",
       "      <th>0</th>\n",
       "      <td>CMCC-CM2-SR5</td>\n",
       "      <td>r1i1p1f1</td>\n",
       "      <td>historical</td>\n",
       "      <td>1980</td>\n",
       "      <td>1999</td>\n",
       "    </tr>\n",
       "    <tr>\n",
       "      <th>1</th>\n",
       "      <td>CMCC-ESM2</td>\n",
       "      <td>r1i1p1f1</td>\n",
       "      <td>historical</td>\n",
       "      <td>1980</td>\n",
       "      <td>1999</td>\n",
       "    </tr>\n",
       "    <tr>\n",
       "      <th>2</th>\n",
       "      <td>CNRM-CM6-1</td>\n",
       "      <td>r1i1p1f2</td>\n",
       "      <td>historical</td>\n",
       "      <td>1980</td>\n",
       "      <td>1999</td>\n",
       "    </tr>\n",
       "    <tr>\n",
       "      <th>3</th>\n",
       "      <td>EC-Earth3</td>\n",
       "      <td>r1i1p1f1</td>\n",
       "      <td>historical</td>\n",
       "      <td>1980</td>\n",
       "      <td>1999</td>\n",
       "    </tr>\n",
       "    <tr>\n",
       "      <th>4</th>\n",
       "      <td>GISS-E2-1-G</td>\n",
       "      <td>r1i1p1f2</td>\n",
       "      <td>historical</td>\n",
       "      <td>1980</td>\n",
       "      <td>1999</td>\n",
       "    </tr>\n",
       "    <tr>\n",
       "      <th>5</th>\n",
       "      <td>MIROC6</td>\n",
       "      <td>r1i1p1f1</td>\n",
       "      <td>historical</td>\n",
       "      <td>1980</td>\n",
       "      <td>1999</td>\n",
       "    </tr>\n",
       "    <tr>\n",
       "      <th>6</th>\n",
       "      <td>MPI-ESM1-2-HR</td>\n",
       "      <td>r1i1p1f1</td>\n",
       "      <td>historical</td>\n",
       "      <td>1980</td>\n",
       "      <td>1999</td>\n",
       "    </tr>\n",
       "    <tr>\n",
       "      <th>7</th>\n",
       "      <td>MRI-ESM2-0</td>\n",
       "      <td>r1i1p1f1</td>\n",
       "      <td>historical</td>\n",
       "      <td>1980</td>\n",
       "      <td>1999</td>\n",
       "    </tr>\n",
       "    <tr>\n",
       "      <th>8</th>\n",
       "      <td>CMCC-CM2-SR5</td>\n",
       "      <td>r1i1p1f1</td>\n",
       "      <td>ssp585 (2C)</td>\n",
       "      <td>2037</td>\n",
       "      <td>2056</td>\n",
       "    </tr>\n",
       "    <tr>\n",
       "      <th>9</th>\n",
       "      <td>CMCC-ESM2</td>\n",
       "      <td>r1i1p1f1</td>\n",
       "      <td>ssp585 (2C)</td>\n",
       "      <td>2041</td>\n",
       "      <td>2060</td>\n",
       "    </tr>\n",
       "    <tr>\n",
       "      <th>10</th>\n",
       "      <td>CNRM-CM6-1</td>\n",
       "      <td>r1i1p1f2</td>\n",
       "      <td>ssp585 (2C)</td>\n",
       "      <td>2042</td>\n",
       "      <td>2061</td>\n",
       "    </tr>\n",
       "    <tr>\n",
       "      <th>11</th>\n",
       "      <td>EC-Earth3</td>\n",
       "      <td>r1i1p1f1</td>\n",
       "      <td>ssp585 (2C)</td>\n",
       "      <td>2031</td>\n",
       "      <td>2050</td>\n",
       "    </tr>\n",
       "    <tr>\n",
       "      <th>12</th>\n",
       "      <td>GISS-E2-1-G</td>\n",
       "      <td>r1i1p1f2</td>\n",
       "      <td>ssp585 (2C)</td>\n",
       "      <td>2028</td>\n",
       "      <td>2047</td>\n",
       "    </tr>\n",
       "    <tr>\n",
       "      <th>13</th>\n",
       "      <td>MIROC6</td>\n",
       "      <td>r1i1p1f1</td>\n",
       "      <td>ssp585 (2C)</td>\n",
       "      <td>2051</td>\n",
       "      <td>2070</td>\n",
       "    </tr>\n",
       "    <tr>\n",
       "      <th>14</th>\n",
       "      <td>MPI-ESM1-2-HR</td>\n",
       "      <td>r1i1p1f1</td>\n",
       "      <td>ssp585 (2C)</td>\n",
       "      <td>2053</td>\n",
       "      <td>2072</td>\n",
       "    </tr>\n",
       "    <tr>\n",
       "      <th>15</th>\n",
       "      <td>MRI-ESM2-0</td>\n",
       "      <td>r1i1p1f1</td>\n",
       "      <td>ssp585 (2C)</td>\n",
       "      <td>2038</td>\n",
       "      <td>2057</td>\n",
       "    </tr>\n",
       "    <tr>\n",
       "      <th>16</th>\n",
       "      <td>CMCC-CM2-SR5</td>\n",
       "      <td>r1i1p1f1</td>\n",
       "      <td>ssp585 (3C)</td>\n",
       "      <td>2054</td>\n",
       "      <td>2073</td>\n",
       "    </tr>\n",
       "    <tr>\n",
       "      <th>17</th>\n",
       "      <td>CMCC-ESM2</td>\n",
       "      <td>r1i1p1f1</td>\n",
       "      <td>ssp585 (3C)</td>\n",
       "      <td>2056</td>\n",
       "      <td>2075</td>\n",
       "    </tr>\n",
       "    <tr>\n",
       "      <th>18</th>\n",
       "      <td>CNRM-CM6-1</td>\n",
       "      <td>r1i1p1f2</td>\n",
       "      <td>ssp585 (3C)</td>\n",
       "      <td>2057</td>\n",
       "      <td>2076</td>\n",
       "    </tr>\n",
       "    <tr>\n",
       "      <th>19</th>\n",
       "      <td>EC-Earth3</td>\n",
       "      <td>r1i1p1f1</td>\n",
       "      <td>ssp585 (3C)</td>\n",
       "      <td>2052</td>\n",
       "      <td>2071</td>\n",
       "    </tr>\n",
       "    <tr>\n",
       "      <th>20</th>\n",
       "      <td>GISS-E2-1-G</td>\n",
       "      <td>r1i1p1f2</td>\n",
       "      <td>ssp585 (3C)</td>\n",
       "      <td>2055</td>\n",
       "      <td>2074</td>\n",
       "    </tr>\n",
       "    <tr>\n",
       "      <th>21</th>\n",
       "      <td>MIROC6</td>\n",
       "      <td>r1i1p1f1</td>\n",
       "      <td>ssp585 (3C)</td>\n",
       "      <td>2072</td>\n",
       "      <td>2091</td>\n",
       "    </tr>\n",
       "    <tr>\n",
       "      <th>22</th>\n",
       "      <td>MPI-ESM1-2-HR</td>\n",
       "      <td>r1i1p1f1</td>\n",
       "      <td>ssp585 (3C)</td>\n",
       "      <td>2075</td>\n",
       "      <td>2094</td>\n",
       "    </tr>\n",
       "    <tr>\n",
       "      <th>23</th>\n",
       "      <td>MRI-ESM2-0</td>\n",
       "      <td>r1i1p1f1</td>\n",
       "      <td>ssp585 (3C)</td>\n",
       "      <td>2062</td>\n",
       "      <td>2081</td>\n",
       "    </tr>\n",
       "  </tbody>\n",
       "</table>\n",
       "</div>"
      ],
      "text/plain": [
       "            model  ensemble          exp  start_year  end_year\n",
       "0    CMCC-CM2-SR5  r1i1p1f1   historical        1980      1999\n",
       "1       CMCC-ESM2  r1i1p1f1   historical        1980      1999\n",
       "2      CNRM-CM6-1  r1i1p1f2   historical        1980      1999\n",
       "3       EC-Earth3  r1i1p1f1   historical        1980      1999\n",
       "4     GISS-E2-1-G  r1i1p1f2   historical        1980      1999\n",
       "5          MIROC6  r1i1p1f1   historical        1980      1999\n",
       "6   MPI-ESM1-2-HR  r1i1p1f1   historical        1980      1999\n",
       "7      MRI-ESM2-0  r1i1p1f1   historical        1980      1999\n",
       "8    CMCC-CM2-SR5  r1i1p1f1  ssp585 (2C)        2037      2056\n",
       "9       CMCC-ESM2  r1i1p1f1  ssp585 (2C)        2041      2060\n",
       "10     CNRM-CM6-1  r1i1p1f2  ssp585 (2C)        2042      2061\n",
       "11      EC-Earth3  r1i1p1f1  ssp585 (2C)        2031      2050\n",
       "12    GISS-E2-1-G  r1i1p1f2  ssp585 (2C)        2028      2047\n",
       "13         MIROC6  r1i1p1f1  ssp585 (2C)        2051      2070\n",
       "14  MPI-ESM1-2-HR  r1i1p1f1  ssp585 (2C)        2053      2072\n",
       "15     MRI-ESM2-0  r1i1p1f1  ssp585 (2C)        2038      2057\n",
       "16   CMCC-CM2-SR5  r1i1p1f1  ssp585 (3C)        2054      2073\n",
       "17      CMCC-ESM2  r1i1p1f1  ssp585 (3C)        2056      2075\n",
       "18     CNRM-CM6-1  r1i1p1f2  ssp585 (3C)        2057      2076\n",
       "19      EC-Earth3  r1i1p1f1  ssp585 (3C)        2052      2071\n",
       "20    GISS-E2-1-G  r1i1p1f2  ssp585 (3C)        2055      2074\n",
       "21         MIROC6  r1i1p1f1  ssp585 (3C)        2072      2091\n",
       "22  MPI-ESM1-2-HR  r1i1p1f1  ssp585 (3C)        2075      2094\n",
       "23     MRI-ESM2-0  r1i1p1f1  ssp585 (3C)        2062      2081"
      ]
     },
     "execution_count": 128,
     "metadata": {},
     "output_type": "execute_result"
    }
   ],
   "source": [
    "runs[['model', 'ensemble', 'exp', 'start_year', 'end_year']]"
   ]
  },
  {
   "cell_type": "markdown",
   "id": "2db073bd-6f00-4e93-9c3f-62c43fbb15b4",
   "metadata": {},
   "source": [
    "If `orog` is available for surface elevation it is used. Some models are missing it, however, and if missing, orography from CNRM-CM6-1/historical/r1i1p1f2 is interpolated to the same grid and used. This code produce the backup orography per model with missing orography. It will not regenerate already-generated files. Note that the use of xemsf gridding routines seems to crash dask processes run using MPI on gadi, so this regridding has to be done \"offline\" here."
   ]
  },
  {
   "cell_type": "code",
   "execution_count": 132,
   "id": "74a23c8b-60e4-4a71-9b7a-20fc8493716f",
   "metadata": {},
   "outputs": [],
   "source": [
    "fh.make_backup_orography(runs)"
   ]
  },
  {
   "cell_type": "code",
   "execution_count": 135,
   "id": "5f118ca5-4754-44fb-9320-91b095bf212e",
   "metadata": {},
   "outputs": [],
   "source": [
    "runs.to_csv('results/runs_list.csv')"
   ]
  },
  {
   "cell_type": "code",
   "execution_count": 129,
   "id": "92823a7f-75cb-43e3-99b6-686498a65e99",
   "metadata": {},
   "outputs": [
    {
     "data": {
      "image/png": "[encoded data removed]",
      "text/plain": [
       "<Figure size 1000x280 with 8 Axes>"
      ]
     },
     "metadata": {},
     "output_type": "display_data"
    }
   ],
   "source": [
    "fh.plot_run_years(runs, file='results/run_years.pdf')"
   ]
  },
  {
   "cell_type": "markdown",
   "id": "613650ab-8cb6-4190-a003-8b4e84bec161",
   "metadata": {},
   "source": [
    "Note that grid information is missing from some files for MRI, CMCC, and MPI. The missing information is (as of 19.05.2023):\n",
    "\n",
    "```\n",
    "MRI: grid-spec gn, orog version gn/v20190603\n",
    "CMCC: grid-spec gn, orog version gn/v20210126\n",
    "MPI: grid-spec gn, orog version gn/v20190710\n",
    "```"
   ]
  },
  {
   "cell_type": "markdown",
   "id": "e95fc8ea-83bd-4978-a853-364f6b1828d6",
   "metadata": {},
   "source": [
    "## Process CMIP6 data\n",
    "\n",
    "Scripts are generated for each model/experiment, under\n",
    "    \n",
    "```\n",
    "scripts/{model_name}/process_CMIP_{model_name}_{experiment}-1.sh\n",
    "scripts/{model_name}/process_CMIP_{model_name}_{experiment}-2.sh\n",
    "```\n",
    "\n",
    "The first processes the first 10 years, the second the last 10 years."
   ]
  },
  {
   "cell_type": "markdown",
   "id": "cb2a1c25-fa9b-41e4-a869-65459bce725a",
   "metadata": {},
   "source": [
    "Uncomment the following block to (re)create all scripts for generating convective indices for each run. "
   ]
  },
  {
   "cell_type": "code",
   "execution_count": 11,
   "id": "9dffe1ec-05c2-46fb-ad3c-8ac4d5b87dd2",
   "metadata": {},
   "outputs": [],
   "source": [
    "# fh.make_run_scripts(runs=runs)"
   ]
  },
  {
   "cell_type": "markdown",
   "id": "1838c4a6-3164-4ba3-bb76-47c0defb92ce",
   "metadata": {},
   "source": [
    "Post-processing into annual/seasonal statistics is done by writing the epochs to process to a CSV file:"
   ]
  },
  {
   "cell_type": "code",
   "execution_count": 123,
   "id": "22cc4df5-37b2-4804-a7a2-86b095c9149e",
   "metadata": {},
   "outputs": [],
   "source": [
    "fh.make_postprocessing_scripts(runs=runs)"
   ]
  },
  {
   "cell_type": "markdown",
   "id": "72e05afd-be7f-4c28-b298-8befa1abe588",
   "metadata": {},
   "source": [
    "and then ensuring the job IDs match the number of epochs and running the script\n",
    "\n",
    "```\n",
    "post_process_CMIP.sh\n",
    "```"
   ]
  },
  {
   "cell_type": "markdown",
   "id": "ef9ce411-c3d9-4368-9ec5-ea7eb009a3b9",
   "metadata": {},
   "source": [
    "## Read processed data"
   ]
  },
  {
   "cell_type": "code",
   "execution_count": null,
   "id": "5416b043-9ca1-47a0-95a4-9bab32c0da1e",
   "metadata": {
    "tags": []
   },
   "outputs": [],
   "source": [
    "data_dir = '/g/data/up6/tr2908/future_hail_global/CMIP_conv_annual_stats/'\n",
    "data_exp = '*common_grid.nc'\n",
    "rename_models = {'EC-Earth_Consortium.EC-Earth3': 'EC-Earth3'}\n",
    "\n",
    "# Regrid native grids to common grids.\n",
    "fh.regrid_global(path=f'{data_dir}/*native_grid.nc')\n",
    "\n",
    "# Open all data.\n",
    "dat = xarray.open_mfdataset(f'{data_dir}/{data_exp}')\n",
    "\n",
    "# Shorten model names if required.\n",
    "dat = dat.assign_coords({'model': [rename_models[x] if x in rename_models else x for x in dat.model.values]})\n",
    "\n",
    "# Open landsea mask.\n",
    "lsm = fh.make_landsea_mask()\n",
    "\n",
    "# Mask to land area only.\n",
    "dat_land = dat.where(lsm.land == 1)\n",
    "\n",
    "# Load for speed.\n",
    "dat = dat.persist()\n",
    "dat_land = dat_land.persist()\n",
    "\n",
    "# Transpose - for the ttest the axis over which the t-test should be applied ('year_num') must be first after model/epoch selection.\n",
    "dat = dat.transpose('model', 'epoch', 'year_num', 'season', 'lat', 'lon')"
   ]
  },
  {
   "cell_type": "markdown",
   "id": "7e184e6a-0913-4341-abe8-ffb87e856642",
   "metadata": {},
   "source": [
    "**CHECK that each model contains the correct epoch and number of timesteps in the annual/seasonal stats**"
   ]
  },
  {
   "cell_type": "markdown",
   "id": "ddad7edb-df24-4181-8d60-cea5666bfb15",
   "metadata": {},
   "source": [
    "## Global hail climatology for historical period"
   ]
  },
  {
   "cell_type": "code",
   "execution_count": null,
   "id": "c08b9e2b-38ce-4dc5-b0ed-0630f9bd8b61",
   "metadata": {
    "tags": []
   },
   "outputs": [],
   "source": [
    "_ = fh.plot_map([dat.annual_hail_proxy.mean('year_num').sel(model=m, epoch='historical') for m in dat.model],\n",
    "                title=[f'{m}' for m in dat.model.values], figsize=(12,6), disp_proj=ccrs.Robinson(),\n",
    "                ncols=2, nrows=2, share_scale=True, share_axes=True, grid=False, contour=True,\n",
    "                scale_label='Mean annual hail-prone days')"
   ]
  },
  {
   "cell_type": "markdown",
   "id": "a538f688-c6c0-4d23-9928-a323fd685752",
   "metadata": {},
   "source": [
    "## Australian hail climatology for historical period"
   ]
  },
  {
   "cell_type": "code",
   "execution_count": null,
   "id": "094dcb86-a771-4361-bfcc-4d1d40de4e6a",
   "metadata": {
    "tags": []
   },
   "outputs": [],
   "source": [
    "d = [dat_land.annual_hail_proxy.mean('year_num').sel(model=m, epoch='historical', lat=slice(-45,-10), lon=slice(110,157)) for m in dat.model]\n",
    "_ = fh.plot_map(d, title=[f'{m}' for m in dat.model.values], figsize=(12,4), nan_colour='white', contour=True,\n",
    "                ncols=4, nrows=1, share_scale=True, share_axes=True, grid=False, country='Australia', axis_off=True,\n",
    "                scale_label='Mean annual hail-prone days')"
   ]
  },
  {
   "cell_type": "code",
   "execution_count": null,
   "id": "2a75d712-3182-482d-8da1-17c78d3bf9eb",
   "metadata": {
    "tags": []
   },
   "outputs": [],
   "source": [
    "fh.plot_seasonal_maps(dat=dat_land.sel(epoch='historical'), variable='seasonal_hail_proxy', \n",
    "                      lat_range=slice(-45,-10), lon_range=slice(110,157), country='Australia', contour=True, \n",
    "                      axis_off=True, grid=False, figsize=(12,8), scale_label='Hail-prone days per season')"
   ]
  },
  {
   "cell_type": "code",
   "execution_count": null,
   "id": "3bf95ec6-e5a4-4b84-b924-f4176bfe646e",
   "metadata": {
    "tags": []
   },
   "outputs": [],
   "source": [
    "model = 'CMCC-ESM2'\n",
    "hist_epoch = 'historical'\n",
    "fut_epoch = '2C'\n",
    "import scipy as sp\n",
    "variable = 'seasonal_hail_proxy'\n",
    "statres, pval = sp.stats.ttest_rel(a=dat.sel(epoch=fut_epoch, model=model, season='DJF')[variable].values, \n",
    "                                   b=dat.sel(epoch=hist_epoch, model=model, season='DJF')[variable].values)"
   ]
  },
  {
   "cell_type": "code",
   "execution_count": null,
   "id": "581f004e-d5cd-42f7-aab0-3c7b0f52cd89",
   "metadata": {
    "tags": []
   },
   "outputs": [],
   "source": [
    "res_dims = list(dat.sel(epoch=fut_epoch, model=model)[variable].dims)[1:]\n",
    "{x: dat[x].values for x in res_dims}"
   ]
  },
  {
   "cell_type": "code",
   "execution_count": null,
   "id": "d0e32f4b-ea26-44ba-b772-7090db1a1650",
   "metadata": {
    "tags": []
   },
   "outputs": [],
   "source": [
    "reload(fh)"
   ]
  },
  {
   "cell_type": "code",
   "execution_count": null,
   "id": "3cc3d357-e912-4ca8-90a3-403baa49aa32",
   "metadata": {
    "tags": []
   },
   "outputs": [],
   "source": [
    "d = fh.ttest(dat=dat, fut_epoch='2C', variable='seasonal_hail_proxy')"
   ]
  },
  {
   "cell_type": "code",
   "execution_count": null,
   "id": "23bc919a-5c3c-4559-b8d8-e9fe37ab04fb",
   "metadata": {
    "tags": []
   },
   "outputs": [],
   "source": [
    "dat"
   ]
  },
  {
   "cell_type": "code",
   "execution_count": null,
   "id": "5772387a-1d4c-4bf3-ae0a-da4b24057f46",
   "metadata": {
    "tags": []
   },
   "outputs": [],
   "source": [
    "fut_epoch='2C'\n",
    "\n",
    "res = []\n",
    "for variable in ['annual_hail_proxy']:\n",
    "    print(variable)\n",
    "    tt = fh.ttest(dat=dat, fut_epoch=fut_epoch, variable=variable)\n",
    "    diffs = dat[variable].sel(epoch=fut_epoch) - dat[variable].sel(epoch='historical')\n",
    "\n",
    "    r = xarray.Dataset({f'{variable}_mean_diff': diffs.mean('year_num'),\n",
    "                        f'{variable}_sig_diff': tt.sig})\n",
    "    r[f'{variable}_mean_diff'].attrs = dat[variable].attrs\n",
    "    res.append(r)\n",
    "    \n",
    "res = xarray.merge(res)"
   ]
  },
  {
   "cell_type": "code",
   "execution_count": null,
   "id": "1a57ecbb-60d8-4ab9-bbfc-ea2c38124659",
   "metadata": {
    "tags": []
   },
   "outputs": [],
   "source": [
    "diffs = res\n",
    "variable = 'annual_hail_proxy_mean_diff'\n",
    "diffs[variable]"
   ]
  },
  {
   "cell_type": "code",
   "execution_count": null,
   "id": "4488e100-a75f-4144-8a82-37af96737ab4",
   "metadata": {
    "tags": []
   },
   "outputs": [],
   "source": [
    "diffs = res\n",
    "variable = 'annual_hail_proxy_mean_diff'"
   ]
  },
  {
   "cell_type": "code",
   "execution_count": null,
   "id": "06a0425a-d582-411a-a192-5b110b028734",
   "metadata": {
    "tags": []
   },
   "outputs": [],
   "source": [
    "reload(fh)\n",
    "\n",
    "sign_aggreement = (np.sign(diffs[variable]).sum('model'))\n",
    "significant_change = tt.sig.sum('model')\n",
    "s = np.logical_and(significant_change == dat.model.size,\n",
    "                   np.abs(sign_aggreement) == dat.model.size)\n",
    "                  \n",
    "m = diffs[variable].mean('model')\n",
    "m.attrs['long_name'] = 'Mean change in annual hail-prone days'\n",
    "    \n",
    "_ = fh.plot_map(dat=m, grid=False, divergent=True,\n",
    "                scale_label='Mean change in annual hail-prone days',\n",
    "                stippling=s, cmap='RdBu_r', figsize=(12,6), disp_proj=ccrs.Robinson())"
   ]
  },
  {
   "cell_type": "code",
   "execution_count": null,
   "id": "b80c2dce-33c8-43ab-a392-be0cb90d9a26",
   "metadata": {},
   "outputs": [],
   "source": []
  },
  {
   "cell_type": "markdown",
   "id": "6d54e78b-6b13-42d9-9f81-fc0f2e957e04",
   "metadata": {},
   "source": [
    "Using [Metagrid](https://aims2.llnl.gov/search) to search for CMIP6 data with:\n",
    "\n",
    "Variables: ua, uas, va, vas, ta, tas, hus, huss, ps\n",
    "Table ID: 6hrLev, 3hr\n",
    "Experiments: ssp585, historical\n",
    "Variant: r1i1p1f1\n",
    "Resolutions: 50, 100, 250 km\n",
    "\n",
    "And then selecting models one by one and looking for those with >18 results (9 variables, two experiments):\n",
    "\n",
    "Not available on NCI - requested\n",
    "\n",
    "* BCC-CSM2-MR\n",
    "    - `CMIP6.CMIP.BCC.BCC-CSM2-MR.historical.r1i1p1f1`\n",
    "    - `CMIP6.ScenarioMIP.BCC.BCC-CSM2-MR.ssp585.r1i1p1f1`\n",
    "\n",
    "* CMCC-CM2-SR5\n",
    "    - `CMIP6.CMIP.CMCC.CMCC-CM2-SR5.historical.r1i1p1f1`\n",
    "    - `CMIP6.ScenarioMIP.CMCC.CMCC-CM2-SR5.ssp585.r1i1p1f1`\n",
    "    \n",
    "* CNRM-CM6-1\n",
    "    - `CMIP6.CMIP.CNRM-CERFACS.CNRM-CM6-1.historical.r1i1p1f2`\n",
    "    - `CMIP6.ScenarioMIP.CNRM-CERFACS.CNRM-CM6-1.ssp585.r1i1p1f2`\n",
    "    \n",
    "* GISS-E2-1-G (250 km)\n",
    "    - `CMIP6.CMIP.NASA-GISS.GISS-E2-1-G.historical.r1i1p1f2`\n",
    "    - `CMIP6.ScenarioMIP.NASA-GISS.GISS-E2-1-G.ssp585.r1i1p1f2`\n",
    "    \n",
    "* MIROC6 (250 km)\n",
    "    - `CMIP6.CMIP.MIROC.MIROC6.historical.r1i1p1f1`\n",
    "    - `CMIP6.ScenarioMIP.MIROC.MIROC6.ssp585.r1i1p1f1`\n",
    "    \n",
    "* NESM3\n",
    "    - `CMIP6.CMIP.NUIST.NESM3.historical.r1i1p1f1`\n",
    "    - `CMIP6.ScenarioMIP.NUIST.NESM3.ssp585.r1i1p1f1`\n",
    "\n",
    "\n"
   ]
  }
 ],
 "metadata": {
  "kernelspec": {
   "display_name": "Python [conda env:analysis3]",
   "language": "python",
   "name": "conda-env-analysis3-py"
  },
  "language_info": {
   "codemirror_mode": {
    "name": "ipython",
    "version": 3
   },
   "file_extension": ".py",
   "mimetype": "text/x-python",
   "name": "python",
   "nbconvert_exporter": "python",
   "pygments_lexer": "ipython3",
   "version": "3.9.17"
  }
 },
 "nbformat": 4,
 "nbformat_minor": 5
}
